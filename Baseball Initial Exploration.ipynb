{
 "cells": [
  {
   "cell_type": "code",
   "execution_count": null,
   "metadata": {},
   "outputs": [],
   "source": [
    "#installing API Wrapper\n",
    "# pip install MLB-StatsAPI"
   ]
  },
  {
   "cell_type": "code",
   "execution_count": 4,
   "metadata": {},
   "outputs": [],
   "source": [
    "#Importing API Wrapper\n",
    "import statsapi"
   ]
  },
  {
   "cell_type": "code",
   "execution_count": 16,
   "metadata": {},
   "outputs": [
    {
     "data": {
      "text/plain": [
       "['Rank Name                 Team                    Value',\n",
       " ' 1   Aaron Judge          New York Yankees         43  ',\n",
       " ' 2   Kyle Schwarber       Philadelphia Phillies    34  ',\n",
       " ' 3   Yordan Alvarez       Houston Astros           30  ',\n",
       " ' 4   Pete Alonso          New York Mets            29  ',\n",
       " ' 4   Austin Riley         Atlanta Braves           29  ',\n",
       " '']"
      ]
     },
     "execution_count": 16,
     "metadata": {},
     "output_type": "execute_result"
    }
   ],
   "source": [
    "#Checking homerun leaders for 2022\n",
    "leaders = statsapi.league_leaders('homeRuns', season = 2022, limit = 5)\n",
    "leaders = leaders.split('\\n')\n",
    "leaders"
   ]
  },
  {
   "cell_type": "code",
   "execution_count": 30,
   "metadata": {},
   "outputs": [
    {
     "data": {
      "text/plain": [
       "{'id': 547180,\n",
       " 'first_name': 'Bryce',\n",
       " 'last_name': 'Harper',\n",
       " 'active': True,\n",
       " 'current_team': 'Philadelphia Phillies',\n",
       " 'position': 'RF',\n",
       " 'nickname': 'Harp',\n",
       " 'last_played': None,\n",
       " 'mlb_debut': '2012-04-28',\n",
       " 'bat_side': 'Left',\n",
       " 'pitch_hand': 'Right',\n",
       " 'stats': [{'type': 'season',\n",
       "   'group': 'hitting',\n",
       "   'season': '2022',\n",
       "   'stats': {'gamesPlayed': 64,\n",
       "    'groundOuts': 57,\n",
       "    'airOuts': 60,\n",
       "    'runs': 49,\n",
       "    'doubles': 21,\n",
       "    'triples': 1,\n",
       "    'homeRuns': 15,\n",
       "    'strikeOuts': 52,\n",
       "    'baseOnBalls': 26,\n",
       "    'intentionalWalks': 4,\n",
       "    'hits': 77,\n",
       "    'hitByPitch': 3,\n",
       "    'avg': '.318',\n",
       "    'atBats': 242,\n",
       "    'obp': '.385',\n",
       "    'slg': '.599',\n",
       "    'ops': '.984',\n",
       "    'caughtStealing': 2,\n",
       "    'stolenBases': 9,\n",
       "    'stolenBasePercentage': '.818',\n",
       "    'groundIntoDoublePlay': 9,\n",
       "    'numberOfPitches': 1035,\n",
       "    'plateAppearances': 275,\n",
       "    'totalBases': 145,\n",
       "    'rbi': 48,\n",
       "    'leftOnBase': 93,\n",
       "    'sacBunts': 0,\n",
       "    'sacFlies': 4,\n",
       "    'babip': '.346',\n",
       "    'groundOutsToAirouts': '0.95',\n",
       "    'catchersInterference': 0,\n",
       "    'atBatsPerHomeRun': '16.13'}}]}"
      ]
     },
     "execution_count": 30,
     "metadata": {},
     "output_type": "execute_result"
    }
   ],
   "source": [
    "#Looking at stats for a player\n",
    "statsapi.player_stat_data(personId = 547180, group=\"hitting\", type = 'season')"
   ]
  },
  {
   "cell_type": "code",
   "execution_count": 37,
   "metadata": {},
   "outputs": [
    {
     "data": {
      "text/plain": [
       "[{'id': 575929,\n",
       "  'fullName': 'Willson Contreras',\n",
       "  'firstName': 'Willson',\n",
       "  'lastName': 'Contreras',\n",
       "  'primaryNumber': '40',\n",
       "  'currentTeam': {'id': 112},\n",
       "  'primaryPosition': {'code': '2', 'abbreviation': 'C'},\n",
       "  'useName': 'Willson',\n",
       "  'boxscoreName': 'Contreras, Wn',\n",
       "  'nickName': 'Venezuela',\n",
       "  'mlbDebutDate': '2016-06-17',\n",
       "  'nameFirstLast': 'Willson Contreras',\n",
       "  'firstLastName': 'Willson Contreras',\n",
       "  'lastFirstName': 'Contreras, Willson',\n",
       "  'lastInitName': 'Contreras, W',\n",
       "  'initLastName': 'W Contreras',\n",
       "  'fullFMLName': 'Willson Eduardo Contreras',\n",
       "  'fullLFMName': 'Contreras, Willson Eduardo'}]"
      ]
     },
     "execution_count": 37,
     "metadata": {},
     "output_type": "execute_result"
    }
   ],
   "source": [
    "#Getting player info - will use for player IDs\n",
    "statsapi.lookup_player('Willson Contreras')"
   ]
  },
  {
   "cell_type": "code",
   "execution_count": 48,
   "metadata": {},
   "outputs": [
    {
     "name": "stdout",
     "output_type": "stream",
     "text": [
      "Player id is: 575929\n"
     ]
    }
   ],
   "source": [
    "#Getting player ID for specific player\n",
    "player_info = statsapi.lookup_player('Willson Contreras')\n",
    "player_id = player_info[0]['id']\n",
    "print(f'Player id is: {player_id}')"
   ]
  },
  {
   "cell_type": "code",
   "execution_count": 49,
   "metadata": {},
   "outputs": [
    {
     "data": {
      "text/plain": [
       "{'id': 575929,\n",
       " 'first_name': 'Willson',\n",
       " 'last_name': 'Contreras',\n",
       " 'active': True,\n",
       " 'current_team': 'Chicago Cubs',\n",
       " 'position': 'C',\n",
       " 'nickname': 'Venezuela',\n",
       " 'last_played': None,\n",
       " 'mlb_debut': '2016-06-17',\n",
       " 'bat_side': 'Right',\n",
       " 'pitch_hand': 'Right',\n",
       " 'stats': [{'type': 'season',\n",
       "   'group': 'hitting',\n",
       "   'season': '2022',\n",
       "   'stats': {'gamesPlayed': 92,\n",
       "    'groundOuts': 101,\n",
       "    'airOuts': 67,\n",
       "    'runs': 54,\n",
       "    'doubles': 21,\n",
       "    'triples': 2,\n",
       "    'homeRuns': 16,\n",
       "    'strikeOuts': 87,\n",
       "    'baseOnBalls': 38,\n",
       "    'intentionalWalks': 0,\n",
       "    'hits': 85,\n",
       "    'hitByPitch': 22,\n",
       "    'avg': '.250',\n",
       "    'atBats': 340,\n",
       "    'obp': '.363',\n",
       "    'slg': '.465',\n",
       "    'ops': '.828',\n",
       "    'caughtStealing': 2,\n",
       "    'stolenBases': 3,\n",
       "    'stolenBasePercentage': '.600',\n",
       "    'groundIntoDoublePlay': 11,\n",
       "    'numberOfPitches': 1536,\n",
       "    'plateAppearances': 400,\n",
       "    'totalBases': 158,\n",
       "    'rbi': 42,\n",
       "    'leftOnBase': 145,\n",
       "    'sacBunts': 0,\n",
       "    'sacFlies': 0,\n",
       "    'babip': '.291',\n",
       "    'groundOutsToAirouts': '1.51',\n",
       "    'catchersInterference': 0,\n",
       "    'atBatsPerHomeRun': '21.25'}}]}"
      ]
     },
     "execution_count": 49,
     "metadata": {},
     "output_type": "execute_result"
    }
   ],
   "source": [
    "#Looking at stats for a player from a fetched player id\n",
    "statsapi.player_stat_data(personId = player_id, group=\"hitting\", type = 'season')"
   ]
  },
  {
   "cell_type": "code",
   "execution_count": null,
   "metadata": {},
   "outputs": [],
   "source": []
  },
  {
   "cell_type": "code",
   "execution_count": 31,
   "metadata": {},
   "outputs": [
    {
     "data": {
      "text/plain": [
       "{'copyright': 'Copyright 2022 MLB Advanced Media, L.P.  Use of any content on this page acknowledges agreement to the terms posted here http://gdx.mlb.com/components/copyright.txt',\n",
       " 'seasons': [{'seasonId': '2022',\n",
       "   'hasWildcard': True,\n",
       "   'preSeasonStartDate': '2022-01-01',\n",
       "   'preSeasonEndDate': '2022-03-16',\n",
       "   'seasonStartDate': '2022-03-17',\n",
       "   'springStartDate': '2022-03-17',\n",
       "   'springEndDate': '2022-04-06',\n",
       "   'regularSeasonStartDate': '2022-04-07',\n",
       "   'lastDate1stHalf': '2022-07-17',\n",
       "   'allStarDate': '2022-07-19',\n",
       "   'firstDate2ndHalf': '2022-07-21',\n",
       "   'regularSeasonEndDate': '2022-10-05',\n",
       "   'postSeasonStartDate': '2022-10-07',\n",
       "   'postSeasonEndDate': '2022-11-05',\n",
       "   'seasonEndDate': '2022-11-05',\n",
       "   'offseasonStartDate': '2022-11-06',\n",
       "   'offSeasonEndDate': '2022-12-31',\n",
       "   'seasonLevelGamedayType': 'P',\n",
       "   'gameLevelGamedayType': 'P',\n",
       "   'qualifierPlateAppearances': 3.1,\n",
       "   'qualifierOutsPitched': 3.0}]}"
      ]
     },
     "execution_count": 31,
     "metadata": {},
     "output_type": "execute_result"
    }
   ],
   "source": [
    "#Looking at season dates\n",
    "statsapi.get(\"seasons\", {\"sportId\": 1, \"season\": 2022})"
   ]
  },
  {
   "cell_type": "code",
   "execution_count": null,
   "metadata": {},
   "outputs": [],
   "source": [
    "#Getting playerIDs for a team\n"
   ]
  }
 ],
 "metadata": {
  "kernelspec": {
   "display_name": "Python 3.9.8 64-bit",
   "language": "python",
   "name": "python3"
  },
  "language_info": {
   "codemirror_mode": {
    "name": "ipython",
    "version": 3
   },
   "file_extension": ".py",
   "mimetype": "text/x-python",
   "name": "python",
   "nbconvert_exporter": "python",
   "pygments_lexer": "ipython3",
   "version": "3.9.8"
  },
  "orig_nbformat": 4,
  "vscode": {
   "interpreter": {
    "hash": "f450c7eb4f838dc2b8e8e4724af9f52f1f78adb4aba90f54ac373406a2721386"
   }
  }
 },
 "nbformat": 4,
 "nbformat_minor": 2
}
