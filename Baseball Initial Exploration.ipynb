{
 "cells": [
  {
   "cell_type": "code",
   "execution_count": 1,
   "metadata": {},
   "outputs": [],
   "source": [
    "#installing API Wrapper\n",
    "# pip install MLB-StatsAPI"
   ]
  },
  {
   "cell_type": "code",
   "execution_count": 2,
   "metadata": {},
   "outputs": [],
   "source": [
    "#Importing API Wrapper\n",
    "import statsapi"
   ]
  },
  {
   "cell_type": "code",
   "execution_count": null,
   "metadata": {},
   "outputs": [],
   "source": [
    "#Checking homerun leaders for 2022\n",
    "leaders = statsapi.league_leaders('homeRuns', season = 2022, limit = 5)\n",
    "leaders = leaders.split('\\n')\n",
    "leaders"
   ]
  },
  {
   "cell_type": "code",
   "execution_count": null,
   "metadata": {},
   "outputs": [],
   "source": [
    "#Looking at stats for a player\n",
    "statsapi.player_stat_data(personId = 547180, group=\"hitting\", type = 'season')"
   ]
  },
  {
   "cell_type": "code",
   "execution_count": null,
   "metadata": {},
   "outputs": [],
   "source": [
    "#Getting player info - will use for player IDs\n",
    "statsapi.lookup_player('Willson Contreras')"
   ]
  },
  {
   "cell_type": "code",
   "execution_count": 15,
   "metadata": {},
   "outputs": [
    {
     "name": "stdout",
     "output_type": "stream",
     "text": [
      "Player id is: 575929\n"
     ]
    }
   ],
   "source": [
    "#Getting player ID for specific player\n",
    "player_info = statsapi.lookup_player('Willson Contreras')\n",
    "player_id = player_info[0]['id']\n",
    "print(f'Player id is: {player_id}')"
   ]
  },
  {
   "cell_type": "code",
   "execution_count": null,
   "metadata": {},
   "outputs": [],
   "source": [
    "#Looking at stats for a player from a fetched player id\n",
    "statsapi.player_stat_data(personId = player_id, group=\"hitting\", type = 'season')"
   ]
  },
  {
   "cell_type": "code",
   "execution_count": null,
   "metadata": {},
   "outputs": [],
   "source": [
    "#Current team info\n",
    "import datetime\n",
    "statsapi.lookup_team(112, season = datetime.datetime.now().year)"
   ]
  },
  {
   "cell_type": "code",
   "execution_count": null,
   "metadata": {},
   "outputs": [],
   "source": [
    "#Looking at season dates\n",
    "statsapi.get(\"seasons\", {\"sportId\": 1, \"season\": datetime.datetime.now().year})"
   ]
  },
  {
   "cell_type": "code",
   "execution_count": null,
   "metadata": {},
   "outputs": [],
   "source": [
    "#Get past season data for a specific player\n",
    "statsapi.get(\"people\", {\"personIds\": 592450, \"hydrate\": \"stats(group=[hitting],type=[byDateRange],\\\n",
    "    startDate=2021-04-07,endDate=2021-05-21,season=2021)\"})"
   ]
  },
  {
   "cell_type": "code",
   "execution_count": null,
   "metadata": {},
   "outputs": [],
   "source": [
    "#Get past season data for a specific player - hitting and pitching\n",
    "statsapi.get(\"people\", {\"personIds\": 543294, \"hydrate\": \"stats(group=[hitting,pitching],type=[byDateRange],\\\n",
    "    startDate=2021-04-07,endDate=2021-05-21,season=2021)\"})"
   ]
  },
  {
   "cell_type": "code",
   "execution_count": null,
   "metadata": {},
   "outputs": [],
   "source": [
    "#Get hitting data for multiple players\n",
    "statsapi.get(\"people\", {\"personIds\": '660271,575929', \"hydrate\": \"stats(group=[hitting],type=[byDateRange],\\\n",
    "    startDate=2021-04-07,endDate=2021-05-21,season=2021)\"})"
   ]
  },
  {
   "cell_type": "code",
   "execution_count": null,
   "metadata": {},
   "outputs": [],
   "source": [
    "#Get past season stats specific data for a player\n",
    "player_info = statsapi.get(\"people\", {\"personIds\": 592450, \"hydrate\": \"stats(group=[hitting],type=[byDateRange],\\\n",
    "    startDate=2021-04-07,endDate=2021-05-21,season=2021)\"})\n",
    "player_info_stats = player_info['people'][0]['stats'][0]['splits'][0]['stat']\n",
    "player_info_stats"
   ]
  },
  {
   "cell_type": "code",
   "execution_count": 61,
   "metadata": {},
   "outputs": [],
   "source": [
    "#Create function to get player stats\n",
    "#Inputs are the id, start date and end date\n",
    "def player_stats(id,start_date, end_date):\n",
    "    player_info = statsapi.get(\"people\", {\"personIds\": id, \"hydrate\": f\"stats(group=[hitting],type=[byDateRange],\\\n",
    "    startDate={start_date},endDate={end_date},season=2021)\"})\n",
    "    player_info_stats = player_info['people'][0]['stats'][0]['splits'][0]['stat']\n",
    "    return player_info_stats"
   ]
  },
  {
   "cell_type": "code",
   "execution_count": null,
   "metadata": {},
   "outputs": [],
   "source": [
    "#Testing function\n",
    "player_stats(592450,'2021-04-07','2021-05-21')"
   ]
  },
  {
   "cell_type": "code",
   "execution_count": null,
   "metadata": {},
   "outputs": [],
   "source": [
    "#Getting Team Roster for a season\n",
    "team_roster = statsapi.get(\"team_roster\", {\"teamId\": 112, \"hydrate\": \"stats(group=[hitting],type=[byDateRange],\\\n",
    "    startDate=2022-04-07,endDate=2022-10-05,season=2022)\"})\n",
    "player_info = team_roster['roster']\n",
    "player_info"
   ]
  },
  {
   "cell_type": "code",
   "execution_count": null,
   "metadata": {},
   "outputs": [],
   "source": [
    "#Looping through roster to get all player names for team 112\n",
    "for i in range(len(player_info)):\n",
    "    print(player_info[i]['person']['fullName'])"
   ]
  },
  {
   "cell_type": "code",
   "execution_count": null,
   "metadata": {},
   "outputs": [],
   "source": [
    "#Creating list of all player names for team 112\n",
    "[player_info[i]['person']['fullName'] for i in range(len(player_info))]"
   ]
  },
  {
   "cell_type": "code",
   "execution_count": 93,
   "metadata": {},
   "outputs": [],
   "source": [
    "#Creating function to get team roster for a team\n",
    "#Input team id, start date and end date \n",
    "def roster(team_id, start_date, end_date):\n",
    "    team_roster = statsapi.get(\"team_roster\", {\"teamId\": team_id, \"hydrate\": f\"stats(group=[hitting],type=[byDateRange],\\\n",
    "    startDate={start_date},endDate={end_date},season=2022)\"})\n",
    "    player_info = team_roster['roster']\n",
    "    #Creating list of all player names for a team \n",
    "    roster_list = [player_info[i]['person']['fullName'] for i in range(len(player_info))]\n",
    "    return roster_list"
   ]
  },
  {
   "cell_type": "code",
   "execution_count": null,
   "metadata": {},
   "outputs": [],
   "source": [
    "#Testing roster function\n",
    "roster(112,'2022-04-07', '2022-10-05')"
   ]
  },
  {
   "cell_type": "code",
   "execution_count": null,
   "metadata": {},
   "outputs": [],
   "source": [
    "all_teams = statsapi.get(\"teams\", {\"teamId\": all,\"hydrate\": f\"stats(group=[hitting],type=[byDateRange], season=2022)\"})\n",
    "all_teams"
   ]
  },
  {
   "cell_type": "code",
   "execution_count": null,
   "metadata": {},
   "outputs": [],
   "source": [
    "#Printing all the NL teams as dict\n",
    "for i in range(len(all_teams['teams'])):\n",
    "    try:\n",
    "        if all_teams['teams'][i]['league']['id']==104:\n",
    "            print({all_teams['teams'][i]['id']:all_teams['teams'][i]['name']})\n",
    "    except: pass"
   ]
  },
  {
   "cell_type": "code",
   "execution_count": null,
   "metadata": {},
   "outputs": [],
   "source": [
    "#Printing all the AL teams as dict\n",
    "for i in range(len(all_teams['teams'])):\n",
    "    try:\n",
    "        if all_teams['teams'][i]['league']['id']==103:\n",
    "            print(all_teams['teams'][i]['id'])\n",
    "    except: pass"
   ]
  },
  {
   "cell_type": "code",
   "execution_count": 229,
   "metadata": {},
   "outputs": [],
   "source": [
    "#Returns list of team ids in AL or NL (103 or 104)\n",
    "def team_ids_choose(id):\n",
    "    team_dict = {}\n",
    "    for i in range(len(all_teams['teams'])):\n",
    "        try:\n",
    "            if all_teams['teams'][i]['league']['id']==id:\n",
    "                team_dict[all_teams['teams'][i]['id']] = all_teams['teams'][i]['name']\n",
    "        except: pass\n",
    "    return team_dict"
   ]
  },
  {
   "cell_type": "code",
   "execution_count": null,
   "metadata": {},
   "outputs": [],
   "source": [
    "#Testing function for AL\n",
    "team_ids_choose(103)"
   ]
  },
  {
   "cell_type": "code",
   "execution_count": 233,
   "metadata": {},
   "outputs": [],
   "source": [
    "#Returns list of team ids in AL and NL\n",
    "def team_id_list():\n",
    "    team_list = []\n",
    "    for i in range(len(all_teams['teams'])):\n",
    "        try:\n",
    "            if (all_teams['teams'][i]['league']['id']==103) or (all_teams['teams'][i]['league']['id']==104):\n",
    "                team_list.append(all_teams['teams'][i]['id'])\n",
    "        except: pass\n",
    "    return team_list"
   ]
  },
  {
   "cell_type": "code",
   "execution_count": null,
   "metadata": {},
   "outputs": [],
   "source": [
    "#Testing function\n",
    "team_id_list()"
   ]
  },
  {
   "cell_type": "code",
   "execution_count": 237,
   "metadata": {},
   "outputs": [],
   "source": [
    "#Returns list of team ids in AL and NL\n",
    "def team_id_dict():\n",
    "    team_dict = {}\n",
    "    for i in range(len(all_teams['teams'])):\n",
    "        try:\n",
    "            if (all_teams['teams'][i]['league']['id']==103) or (all_teams['teams'][i]['league']['id']==104):\n",
    "                team_dict[all_teams['teams'][i]['id']] = all_teams['teams'][i]['name']\n",
    "        except: pass\n",
    "    return team_dict"
   ]
  },
  {
   "cell_type": "code",
   "execution_count": null,
   "metadata": {},
   "outputs": [],
   "source": [
    "#Testing team dictionary for MLB teams\n",
    "team_id_dict()"
   ]
  },
  {
   "cell_type": "code",
   "execution_count": 254,
   "metadata": {},
   "outputs": [],
   "source": [
    "#Creating team stats function\n",
    "#Currently able to pull the team roster, need to update to pull the stats for each player.\n",
    "def team_stats(team):\n",
    "    for i in team_id_dict():\n",
    "        if team_id_dict()[i] == team:\n",
    "            team_roster = roster(i,'2022-04-07', '2022-10-05')\n",
    "    return team_roster"
   ]
  },
  {
   "cell_type": "code",
   "execution_count": null,
   "metadata": {},
   "outputs": [],
   "source": [
    "team_stats('Chicago Cubs')"
   ]
  },
  {
   "cell_type": "code",
   "execution_count": null,
   "metadata": {},
   "outputs": [],
   "source": [
    "statsapi.lookup_player('shohei ohtani')"
   ]
  },
  {
   "cell_type": "code",
   "execution_count": null,
   "metadata": {},
   "outputs": [],
   "source": [
    "#Getting the type of position played - may use this for pitchers who are hitters (Called 'Two-Way Player' by the API)\n",
    "#using an if statement could work when fetching team data, as it would only have to iterate through 26 or so players per team.\n",
    "statsapi.get(\"people\", {\"personIds\": 660271, \"hydrate\": \"stats(group=[hitting],type=[byDateRange],\\\n",
    "    startDate=2021-04-07,endDate=2021-05-21,season=2021)\"})['people'][0]['primaryPosition']['type']"
   ]
  },
  {
   "cell_type": "code",
   "execution_count": null,
   "metadata": {},
   "outputs": [],
   "source": []
  }
 ],
 "metadata": {
  "kernelspec": {
   "display_name": "Python 3.9.8 64-bit",
   "language": "python",
   "name": "python3"
  },
  "language_info": {
   "codemirror_mode": {
    "name": "ipython",
    "version": 3
   },
   "file_extension": ".py",
   "mimetype": "text/x-python",
   "name": "python",
   "nbconvert_exporter": "python",
   "pygments_lexer": "ipython3",
   "version": "3.9.8"
  },
  "orig_nbformat": 4,
  "vscode": {
   "interpreter": {
    "hash": "f450c7eb4f838dc2b8e8e4724af9f52f1f78adb4aba90f54ac373406a2721386"
   }
  }
 },
 "nbformat": 4,
 "nbformat_minor": 2
}
