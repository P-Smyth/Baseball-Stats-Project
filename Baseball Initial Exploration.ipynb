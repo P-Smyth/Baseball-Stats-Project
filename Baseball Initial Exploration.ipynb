{
 "cells": [
  {
   "cell_type": "code",
   "execution_count": null,
   "metadata": {},
   "outputs": [],
   "source": [
    "#installing API Wrapper\n",
    "# pip install MLB-StatsAPI"
   ]
  },
  {
   "cell_type": "code",
   "execution_count": null,
   "metadata": {},
   "outputs": [],
   "source": [
    "#Importing API Wrapper\n",
    "import statsapi"
   ]
  },
  {
   "cell_type": "code",
   "execution_count": null,
   "metadata": {},
   "outputs": [],
   "source": [
    "#Checking homerun leaders for 2022\n",
    "leaders = statsapi.league_leaders('homeRuns', season = 2022, limit = 5)\n",
    "leaders = leaders.split('\\n')\n",
    "leaders"
   ]
  },
  {
   "cell_type": "code",
   "execution_count": null,
   "metadata": {},
   "outputs": [],
   "source": [
    "#Looking at stats for a player\n",
    "statsapi.player_stat_data(personId = 547180, group=\"hitting\", type = 'season')"
   ]
  },
  {
   "cell_type": "code",
   "execution_count": null,
   "metadata": {},
   "outputs": [],
   "source": [
    "#Getting player info - will use for player IDs\n",
    "statsapi.lookup_player('Willson Contreras')"
   ]
  },
  {
   "cell_type": "code",
   "execution_count": null,
   "metadata": {},
   "outputs": [],
   "source": [
    "#Getting player ID for specific player\n",
    "player_info = statsapi.lookup_player('Willson Contreras')\n",
    "player_id = player_info[0]['id']\n",
    "print(f'Player id is: {player_id}')"
   ]
  },
  {
   "cell_type": "code",
   "execution_count": null,
   "metadata": {},
   "outputs": [],
   "source": [
    "#Looking at stats for a player from a fetched player id\n",
    "statsapi.player_stat_data(personId = player_id, group=\"hitting\", type = 'season')"
   ]
  },
  {
   "cell_type": "code",
   "execution_count": null,
   "metadata": {},
   "outputs": [],
   "source": [
    "#Current team info\n",
    "import datetime\n",
    "statsapi.lookup_team(112, season = datetime.datetime.now().year)"
   ]
  },
  {
   "cell_type": "code",
   "execution_count": null,
   "metadata": {},
   "outputs": [],
   "source": [
    "#Looking at season dates\n",
    "statsapi.get(\"seasons\", {\"sportId\": 1, \"season\": datetime.datetime.now().year})"
   ]
  },
  {
   "cell_type": "code",
   "execution_count": null,
   "metadata": {},
   "outputs": [],
   "source": [
    "#Get past season data for a specific player\n",
    "statsapi.get(\"people\", {\"personIds\": 592450, \"hydrate\": \"stats(group=[hitting],type=[byDateRange],\\\n",
    "    startDate=2021-04-07,endDate=2021-10-05,season=2021)\"})"
   ]
  },
  {
   "cell_type": "code",
   "execution_count": null,
   "metadata": {},
   "outputs": [],
   "source": [
    "#Get past season data for a specific player - hitting and pitching\n",
    "statsapi.get(\"people\", {\"personIds\": 543294, \"hydrate\": \"stats(group=[hitting,pitching],type=[byDateRange],\\\n",
    "    startDate=2021-04-07,endDate=2021-05-21,season=2021)\"})"
   ]
  },
  {
   "cell_type": "code",
   "execution_count": null,
   "metadata": {},
   "outputs": [],
   "source": [
    "#Get hitting data for multiple players\n",
    "statsapi.get(\"people\", {\"personIds\": '660271,575929', \"hydrate\": \"stats(group=[hitting],type=[byDateRange],\\\n",
    "    startDate=2021-04-07,endDate=2021-05-21,season=2021)\"})"
   ]
  },
  {
   "cell_type": "code",
   "execution_count": null,
   "metadata": {},
   "outputs": [],
   "source": [
    "#Get past season stats specific data for a player\n",
    "player_info = statsapi.get(\"people\", {\"personIds\": 592450, \"hydrate\": \"stats(group=[hitting],type=[byDateRange],\\\n",
    "    startDate=2021-04-07,endDate=2021-05-21,season=2021)\"})\n",
    "player_info_stats = player_info['people'][0]['stats'][0]['splits'][0]['stat']\n",
    "player_info_stats"
   ]
  },
  {
   "cell_type": "code",
   "execution_count": null,
   "metadata": {},
   "outputs": [],
   "source": [
    "#Create function to get player stats\n",
    "#Inputs are the id, start date and end date\n",
    "def player_stats(id,start_date, end_date):\n",
    "    player_info = statsapi.get(\"people\", {\"personIds\": id, \"hydrate\": f\"stats(group=[hitting],type=[byDateRange],\\\n",
    "    startDate={start_date},endDate={end_date},season=2021)\"})\n",
    "    player_info_stats = player_info['people'][0]['stats'][0]['splits'][0]['stat']\n",
    "    return player_info_stats"
   ]
  },
  {
   "cell_type": "code",
   "execution_count": null,
   "metadata": {},
   "outputs": [],
   "source": [
    "#Testing function\n",
    "player_stats(592450,'2021-04-07','2021-05-21')"
   ]
  },
  {
   "cell_type": "code",
   "execution_count": null,
   "metadata": {},
   "outputs": [],
   "source": [
    "#Getting Team Roster for a season\n",
    "team_roster = statsapi.get(\"team_roster\", {\"teamId\": 112, \"hydrate\": \"stats(group=[hitting],type=[byDateRange],\\\n",
    "    startDate=2022-04-07,endDate=2022-10-05,season=2022)\"})\n",
    "player_info = team_roster['roster']\n",
    "player_info"
   ]
  },
  {
   "cell_type": "code",
   "execution_count": null,
   "metadata": {},
   "outputs": [],
   "source": [
    "#Looping through roster to get all player names for team 112\n",
    "for i in range(len(player_info)):\n",
    "    print(player_info[i]['person']['fullName'])"
   ]
  },
  {
   "cell_type": "code",
   "execution_count": null,
   "metadata": {},
   "outputs": [],
   "source": [
    "#Creating list of all player names for team 112\n",
    "[player_info[i]['person']['fullName'] for i in range(len(player_info))]"
   ]
  },
  {
   "cell_type": "code",
   "execution_count": 230,
   "metadata": {},
   "outputs": [],
   "source": [
    "#Creating function to get team roster for a team on a given year\n",
    "#Input team id and the season year\n",
    "def roster_names(team_id, season):\n",
    "    team_roster = statsapi.get(\"team_roster\", {\"teamId\": team_id, 'season': season,\"hydrate\": f\"stats(group=[hitting],type=[byDateRange],season={season})\"})\n",
    "    player_info = team_roster['roster']\n",
    "    #Creating list of all player names for a team \n",
    "    roster_list = [player_info[i]['person']['fullName'] for i in range(len(player_info))]\n",
    "    return roster_list"
   ]
  },
  {
   "cell_type": "code",
   "execution_count": null,
   "metadata": {},
   "outputs": [],
   "source": [
    "#Testing roster function\n",
    "roster_names(112, 2021)"
   ]
  },
  {
   "cell_type": "code",
   "execution_count": 232,
   "metadata": {},
   "outputs": [],
   "source": [
    "#Creating function to get team roster for a team as dictionary\n",
    "#Input team id, start date and end date and the season year\n",
    "def roster(team_id, season):\n",
    "    roster_dict = {}\n",
    "    team_roster = statsapi.get(\"team_roster\", {\"teamId\": team_id, 'season': season})\n",
    "    player_info = team_roster['roster']\n",
    "    #Creating list of all player names for a team \n",
    "    for i in range(len(player_info)):\n",
    "        roster_dict[player_info[i]['person']['id']] = player_info[i]['person']['fullName']\n",
    "    return roster_dict"
   ]
  },
  {
   "cell_type": "code",
   "execution_count": null,
   "metadata": {},
   "outputs": [],
   "source": [
    "#Testing roster function\n",
    "roster(112,2021)"
   ]
  },
  {
   "cell_type": "code",
   "execution_count": 233,
   "metadata": {},
   "outputs": [],
   "source": [
    "#Creating function to get team roster, including their position, for a team as dictionary\n",
    "#Input team id, start date and end date and the season year\n",
    "def roster_pos(team_id, season):\n",
    "    roster_dict = {}\n",
    "    team_roster = statsapi.get(\"team_roster\", {\"teamId\": team_id, 'season': season})\n",
    "    player_info = team_roster['roster']\n",
    "    #Creating list of all player names for a team \n",
    "    for i in range(len(player_info)):\n",
    "        roster_dict[player_info[i]['person']['id']] = [player_info[i]['person']['fullName'],player_info[i]['position']['type']]\n",
    "    return roster_dict"
   ]
  },
  {
   "cell_type": "code",
   "execution_count": null,
   "metadata": {},
   "outputs": [],
   "source": [
    "#Testing roster_pos function\n",
    "roster_pos(108,2022)"
   ]
  },
  {
   "cell_type": "code",
   "execution_count": null,
   "metadata": {},
   "outputs": [],
   "source": [
    "#Testing where the name and ID are located in the roster api call.\n",
    "statsapi.get(\"team_roster\", {\"teamId\": 112, 'season': 2021})['roster'][0]['person']"
   ]
  },
  {
   "cell_type": "code",
   "execution_count": null,
   "metadata": {},
   "outputs": [],
   "source": [
    "#Testing API get for all the teams\n",
    "all_teams = statsapi.get(\"teams\", {\"teamId\": all,\"hydrate\": f\"stats(group=[hitting],type=[byDateRange], season=2022)\"})\n",
    "all_teams"
   ]
  },
  {
   "cell_type": "code",
   "execution_count": null,
   "metadata": {},
   "outputs": [],
   "source": [
    "#Printing all the NL teams as dict\n",
    "for i in range(len(all_teams['teams'])):\n",
    "    try:\n",
    "        if all_teams['teams'][i]['league']['id']==104:\n",
    "            print({all_teams['teams'][i]['id']:all_teams['teams'][i]['name']})\n",
    "    except: pass"
   ]
  },
  {
   "cell_type": "code",
   "execution_count": null,
   "metadata": {},
   "outputs": [],
   "source": [
    "#Printing all the AL teams as dict\n",
    "for i in range(len(all_teams['teams'])):\n",
    "    try:\n",
    "        if all_teams['teams'][i]['league']['id']==103:\n",
    "            print(all_teams['teams'][i]['id'])\n",
    "    except: pass"
   ]
  },
  {
   "cell_type": "code",
   "execution_count": 195,
   "metadata": {},
   "outputs": [],
   "source": [
    "#Returns list of team ids in AL or NL (103 or 104)\n",
    "def team_ids_choose(id):\n",
    "    team_dict = {}\n",
    "    for i in range(len(all_teams['teams'])):\n",
    "        try:\n",
    "            if all_teams['teams'][i]['league']['id']==id:\n",
    "                team_dict[all_teams['teams'][i]['id']] = all_teams['teams'][i]['name']\n",
    "        except: pass\n",
    "    return team_dict"
   ]
  },
  {
   "cell_type": "code",
   "execution_count": null,
   "metadata": {},
   "outputs": [],
   "source": [
    "#Testing function for AL\n",
    "team_ids_choose(103)"
   ]
  },
  {
   "cell_type": "code",
   "execution_count": null,
   "metadata": {},
   "outputs": [],
   "source": [
    "#Returns list of team ids in AL and NL\n",
    "def team_id_list():\n",
    "    team_list = []\n",
    "    for i in range(len(all_teams['teams'])):\n",
    "        try:\n",
    "            if (all_teams['teams'][i]['league']['id']==103) or (all_teams['teams'][i]['league']['id']==104):\n",
    "                team_list.append(all_teams['teams'][i]['id'])\n",
    "        except: pass\n",
    "    return team_list"
   ]
  },
  {
   "cell_type": "code",
   "execution_count": null,
   "metadata": {},
   "outputs": [],
   "source": [
    "#Testing function\n",
    "team_id_list()"
   ]
  },
  {
   "cell_type": "code",
   "execution_count": 197,
   "metadata": {},
   "outputs": [],
   "source": [
    "#Returns list of team ids in AL and NL\n",
    "def team_id_dict():\n",
    "    team_dict = {}\n",
    "    for i in range(len(all_teams['teams'])):\n",
    "        try:\n",
    "            if (all_teams['teams'][i]['league']['id']==103) or (all_teams['teams'][i]['league']['id']==104):\n",
    "                team_dict[all_teams['teams'][i]['id']] = all_teams['teams'][i]['name']\n",
    "        except: pass\n",
    "    return team_dict"
   ]
  },
  {
   "cell_type": "code",
   "execution_count": null,
   "metadata": {},
   "outputs": [],
   "source": [
    "#Testing team dictionary for MLB teams\n",
    "team_id_dict()"
   ]
  },
  {
   "cell_type": "code",
   "execution_count": 200,
   "metadata": {},
   "outputs": [],
   "source": [
    "#Creating team stats function\n",
    "#Currently able to pull the team roster, need to update to pull the stats for each player.\n",
    "def team_stats(team):\n",
    "    for i in team_id_dict():\n",
    "        if team_id_dict()[i] == team:\n",
    "            team_roster = roster(i,2021)\n",
    "    return team_roster"
   ]
  },
  {
   "cell_type": "code",
   "execution_count": null,
   "metadata": {},
   "outputs": [],
   "source": [
    "team_stats('Chicago Cubs')"
   ]
  },
  {
   "cell_type": "code",
   "execution_count": null,
   "metadata": {},
   "outputs": [],
   "source": [
    "#Looking up pitcher who is a DH\n",
    "statsapi.lookup_player('shohei ohtani')"
   ]
  },
  {
   "cell_type": "code",
   "execution_count": null,
   "metadata": {},
   "outputs": [],
   "source": [
    "#Getting the type of position played - may use this for pitchers who are hitters (Called 'Two-Way Player' by the API)\n",
    "#using an if statement could work when fetching team data, as it would only have to iterate through 26 or so players per team.\n",
    "statsapi.get(\"people\", {\"personIds\": 660271, \"hydrate\": \"stats(group=[hitting],type=[byDateRange],\\\n",
    "    startDate=2021-04-07,endDate=2021-05-21,season=2021)\"})['people'][0]['primaryPosition']['type']"
   ]
  },
  {
   "cell_type": "markdown",
   "metadata": {},
   "source": [
    "## Fetch stats for the Cubs roster over a week for 2021"
   ]
  },
  {
   "cell_type": "code",
   "execution_count": 134,
   "metadata": {},
   "outputs": [
    {
     "data": {
      "text/plain": [
       "{592716: 'Adrian Sampson',\n",
       " 659262: 'Anderson Espinoza',\n",
       " 676714: 'Brandon Hughes',\n",
       " 666624: 'Christopher Morel',\n",
       " 592767: 'Drew Smyly',\n",
       " 657272: 'Erich Uelmen',\n",
       " 614177: 'Franmil Reyes',\n",
       " 664023: 'Ian Happ',\n",
       " 657006: 'Justin Steele',\n",
       " 624522: 'Keegan Thompson',\n",
       " 665645: 'Kervin Castro',\n",
       " 573186: 'Marcus Stroman',\n",
       " 643410: 'Mark Leiter Jr.',\n",
       " 621074: 'Michael Rucker',\n",
       " 676369: 'Nelson Velazquez',\n",
       " 663611: 'Nick Madrigal',\n",
       " 663538: 'Nico Hoerner',\n",
       " 664731: 'P.J. Higgins',\n",
       " 621550: 'Patrick Wisdom',\n",
       " 542364: 'Rafael Ortega',\n",
       " 592858: 'Rowan Wick',\n",
       " 656794: 'Sean Newcomb',\n",
       " 673548: 'Seiya Suzuki',\n",
       " 575929: 'Willson Contreras',\n",
       " 543228: 'Yan Gomes',\n",
       " 656716: 'Zach McKinstry'}"
      ]
     },
     "execution_count": 134,
     "metadata": {},
     "output_type": "execute_result"
    }
   ],
   "source": [
    "#Getting roster for cubs \n",
    "cubs_roster = roster(112,'2021-04-07', '2021-04-14', 2021)\n",
    "cubs_roster"
   ]
  },
  {
   "cell_type": "code",
   "execution_count": null,
   "metadata": {},
   "outputs": [],
   "source": [
    "#Need the exception, as some players on the roster may have no stats at this time...\n",
    "for i in cubs_roster:\n",
    "    try: print(player_stats(i,'2021-04-07','2021-10-05'))\n",
    "    except: pass"
   ]
  },
  {
   "cell_type": "code",
   "execution_count": null,
   "metadata": {},
   "outputs": [],
   "source": [
    "statsapi.get(\"team_roster\", {\"teamId\": 112, 'season': 2021})"
   ]
  },
  {
   "cell_type": "code",
   "execution_count": null,
   "metadata": {},
   "outputs": [],
   "source": [
    "#look more into this\n",
    "#statsapi.get(\"game\", {\"gamePk\": 112, \"hydrate\": \"stats(group=[hitting],type=[bySeason])\"})"
   ]
  }
 ],
 "metadata": {
  "kernelspec": {
   "display_name": "Python 3.9.8 64-bit",
   "language": "python",
   "name": "python3"
  },
  "language_info": {
   "codemirror_mode": {
    "name": "ipython",
    "version": 3
   },
   "file_extension": ".py",
   "mimetype": "text/x-python",
   "name": "python",
   "nbconvert_exporter": "python",
   "pygments_lexer": "ipython3",
   "version": "3.9.8"
  },
  "orig_nbformat": 4,
  "vscode": {
   "interpreter": {
    "hash": "f450c7eb4f838dc2b8e8e4724af9f52f1f78adb4aba90f54ac373406a2721386"
   }
  }
 },
 "nbformat": 4,
 "nbformat_minor": 2
}
