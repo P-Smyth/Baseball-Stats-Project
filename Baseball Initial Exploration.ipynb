{
 "cells": [
  {
   "cell_type": "markdown",
   "metadata": {},
   "source": [
    "## Initial Exploration of API Wrapper"
   ]
  },
  {
   "cell_type": "code",
   "execution_count": null,
   "metadata": {},
   "outputs": [],
   "source": [
    "#installing API Wrapper\n",
    "# pip install MLB-StatsAPI"
   ]
  },
  {
   "cell_type": "code",
   "execution_count": null,
   "metadata": {},
   "outputs": [],
   "source": [
    "#Importing API Wrapper\n",
    "import statsapi"
   ]
  },
  {
   "cell_type": "code",
   "execution_count": null,
   "metadata": {},
   "outputs": [],
   "source": [
    "#Checking homerun leaders for 2022\n",
    "leaders = statsapi.league_leaders('homeRuns', season = 2022, limit = 5)\n",
    "leaders = leaders.split('\\n')\n",
    "leaders"
   ]
  },
  {
   "cell_type": "code",
   "execution_count": null,
   "metadata": {},
   "outputs": [],
   "source": [
    "#Looking at stats for a player - hitting and fielding specific\n",
    "statsapi.player_stat_data(personId = 547180, group=\"[hitting,fielding]\", type = 'season')"
   ]
  },
  {
   "cell_type": "code",
   "execution_count": null,
   "metadata": {},
   "outputs": [],
   "source": [
    "#Looking at pitching stats for a player from a fetched player id year by year\n",
    "statsapi.player_stat_data(personId = 592858, group=\"pitching\", type = 'yearByYear')"
   ]
  },
  {
   "cell_type": "code",
   "execution_count": null,
   "metadata": {},
   "outputs": [],
   "source": [
    "#Getting player info - will use for player IDs\n",
    "statsapi.lookup_player('Willson Contreras')"
   ]
  },
  {
   "cell_type": "code",
   "execution_count": null,
   "metadata": {},
   "outputs": [],
   "source": [
    "#Getting player ID for specific player\n",
    "player_info = statsapi.lookup_player('Willson Contreras')\n",
    "player_id = player_info[0]['id']\n",
    "print(f'Player id is: {player_id}')"
   ]
  },
  {
   "cell_type": "code",
   "execution_count": null,
   "metadata": {},
   "outputs": [],
   "source": [
    "#Looking at stats for a player from a fetched player id\n",
    "statsapi.player_stat_data(personId = player_id, group=\"hitting\", type = 'season')"
   ]
  },
  {
   "cell_type": "code",
   "execution_count": null,
   "metadata": {},
   "outputs": [],
   "source": [
    "#Current team info\n",
    "import datetime\n",
    "statsapi.lookup_team(112, season = datetime.datetime.now().year)"
   ]
  },
  {
   "cell_type": "code",
   "execution_count": null,
   "metadata": {},
   "outputs": [],
   "source": [
    "#Looking at season dates\n",
    "statsapi.get(\"seasons\", {\"sportId\": 1, \"season\": datetime.datetime.now().year})"
   ]
  },
  {
   "cell_type": "code",
   "execution_count": null,
   "metadata": {},
   "outputs": [],
   "source": [
    "#Get past season data for a specific player\n",
    "statsapi.get(\"people\", {\"personIds\": 592450, \"hydrate\": \"stats(group=[hitting],type=[byDateRange],\\\n",
    "    startDate=2021-04-07,endDate=2021-10-05,season=2021)\"})"
   ]
  },
  {
   "cell_type": "code",
   "execution_count": null,
   "metadata": {},
   "outputs": [],
   "source": [
    "#Get past season data for a specific player - hitting and pitching\n",
    "statsapi.get(\"people\", {\"personIds\": 543294, \"hydrate\": \"stats(group=[hitting,pitching],type=[byDateRange],\\\n",
    "    startDate=2021-04-07,endDate=2021-05-21,season=2021)\"})"
   ]
  },
  {
   "cell_type": "code",
   "execution_count": null,
   "metadata": {},
   "outputs": [],
   "source": [
    "#Get hitting data for multiple players\n",
    "statsapi.get(\"people\", {\"personIds\": '660271,575929', \"hydrate\": \"stats(group=[hitting],type=[byDateRange],\\\n",
    "    startDate=2021-04-07,endDate=2021-05-21,season=2021)\"})"
   ]
  },
  {
   "cell_type": "markdown",
   "metadata": {},
   "source": [
    "## Looking more into data and getting specifics"
   ]
  },
  {
   "cell_type": "code",
   "execution_count": null,
   "metadata": {},
   "outputs": [],
   "source": [
    "#Get past season stats specific data for a player\n",
    "player_info = statsapi.get(\"people\", {\"personIds\": 592450, \"hydrate\": \"stats(group=[hitting],type=[byDateRange],\\\n",
    "    startDate=2021-04-07,endDate=2021-05-21,season=2021)\"})\n",
    "player_info_stats = player_info['people'][0]['stats'][0]['splits'][0]['stat']\n",
    "player_info_stats"
   ]
  },
  {
   "cell_type": "code",
   "execution_count": null,
   "metadata": {},
   "outputs": [],
   "source": [
    "#Create function to get player stats\n",
    "#Inputs are the id, start date and end date\n",
    "def player_stats(id,start_date, end_date, season):\n",
    "    player_info = statsapi.get(\"people\", {\"personIds\": id, \"hydrate\": f\"stats(group=[hitting,fielding,pitching],type=[byDateRange],\\\n",
    "    startDate={start_date},endDate={end_date},season={season})\"})\n",
    "    stat_dict = {}\n",
    "    try:\n",
    "        player_hitting_stats = player_info['people'][0]['stats'][0]['splits'][0]['stat']\n",
    "        stat_dict['hitting'] = player_hitting_stats\n",
    "    except: pass\n",
    "    try: \n",
    "        player_fielding_stats = player_info['people'][0]['stats'][1]['splits'][0]['stat']\n",
    "        stat_dict['fielding'] = player_fielding_stats\n",
    "    except: pass\n",
    "    try:\n",
    "        player_pitching_stats = player_info['people'][0]['stats'][2]['splits'][0]['stat']\n",
    "        stat_dict['pitching'] = player_pitching_stats\n",
    "    except:pass\n",
    "    return stat_dict"
   ]
  },
  {
   "cell_type": "code",
   "execution_count": null,
   "metadata": {},
   "outputs": [],
   "source": [
    "#Testing function for 2020\n",
    "player_stats(592450,'2020-07-07','2020-10-22', 2020)"
   ]
  },
  {
   "cell_type": "markdown",
   "metadata": {},
   "source": [
    "## Looking into getting a teams' roster"
   ]
  },
  {
   "cell_type": "code",
   "execution_count": null,
   "metadata": {},
   "outputs": [],
   "source": [
    "#Getting Team Roster for a season\n",
    "team_roster = statsapi.get(\"team_roster\", {\"teamId\": 112, \"hydrate\": \"stats(group=[hitting],type=[byDateRange],\\\n",
    "    startDate=2022-04-07,endDate=2022-10-05,season=2022)\"})\n",
    "player_info = team_roster['roster']\n",
    "player_info"
   ]
  },
  {
   "cell_type": "code",
   "execution_count": null,
   "metadata": {},
   "outputs": [],
   "source": [
    "#Looping through roster to get all player names for team 112\n",
    "for i in range(len(player_info)):\n",
    "    print(player_info[i]['person']['fullName'])"
   ]
  },
  {
   "cell_type": "code",
   "execution_count": null,
   "metadata": {},
   "outputs": [],
   "source": [
    "#Creating list of all player names for team 112\n",
    "[player_info[i]['person']['fullName'] for i in range(len(player_info))]"
   ]
  },
  {
   "cell_type": "code",
   "execution_count": null,
   "metadata": {},
   "outputs": [],
   "source": [
    "#Creating function to get team roster for a team on a given year\n",
    "#Input team id and the season year\n",
    "def roster_names(team_id, season):\n",
    "    team_roster = statsapi.get(\"team_roster\", {\"teamId\": team_id, 'season': season,\"hydrate\": f\"stats(group=[hitting],type=[byDateRange],season={season})\"})\n",
    "    player_info = team_roster['roster']\n",
    "    #Creating list of all player names for a team \n",
    "    roster_list = [player_info[i]['person']['fullName'] for i in range(len(player_info))]\n",
    "    return roster_list"
   ]
  },
  {
   "cell_type": "code",
   "execution_count": null,
   "metadata": {},
   "outputs": [],
   "source": [
    "#Testing roster function\n",
    "roster_names(112, 2021)"
   ]
  },
  {
   "cell_type": "code",
   "execution_count": null,
   "metadata": {},
   "outputs": [],
   "source": [
    "#Creating function to get team roster for a team as dictionary\n",
    "#Input team id, start date and end date and the season year\n",
    "def roster(team_id, season):\n",
    "    roster_dict = {}\n",
    "    team_roster = statsapi.get(\"team_roster\", {\"teamId\": team_id, 'season': season})\n",
    "    player_info = team_roster['roster']\n",
    "    #Creating list of all player names for a team \n",
    "    for i in range(len(player_info)):\n",
    "        roster_dict[player_info[i]['person']['id']] = player_info[i]['person']['fullName']\n",
    "    return roster_dict"
   ]
  },
  {
   "cell_type": "code",
   "execution_count": null,
   "metadata": {},
   "outputs": [],
   "source": [
    "#Testing roster function\n",
    "roster(112,2021)"
   ]
  },
  {
   "cell_type": "code",
   "execution_count": null,
   "metadata": {},
   "outputs": [],
   "source": [
    "#Creating function to get team roster, including their position, for a team as dictionary\n",
    "#Input team id, start date and end date and the season year\n",
    "def roster_pos(team_id, season):\n",
    "    roster_dict = {}\n",
    "    team_roster = statsapi.get(\"team_roster\", {\"teamId\": team_id, 'season': season})\n",
    "    player_info = team_roster['roster']\n",
    "    #Creating list of all player names for a team \n",
    "    for i in range(len(player_info)):\n",
    "        roster_dict[player_info[i]['person']['id']] = [player_info[i]['person']['fullName'],player_info[i]['position']['type']]\n",
    "    return roster_dict"
   ]
  },
  {
   "cell_type": "code",
   "execution_count": null,
   "metadata": {},
   "outputs": [],
   "source": [
    "#Testing roster_pos function\n",
    "roster_pos(108,2022)"
   ]
  },
  {
   "cell_type": "code",
   "execution_count": null,
   "metadata": {},
   "outputs": [],
   "source": [
    "#Testing where the name and ID are located in the roster api call.\n",
    "statsapi.get(\"team_roster\", {\"teamId\": 112, 'season': 2021})['roster'][0]['person']"
   ]
  },
  {
   "cell_type": "markdown",
   "metadata": {},
   "source": [
    "## Getting all the teams in the MLB"
   ]
  },
  {
   "cell_type": "code",
   "execution_count": null,
   "metadata": {},
   "outputs": [],
   "source": [
    "#Testing API get for all the teams\n",
    "all_teams = statsapi.get(\"teams\", {\"teamId\": all,\"hydrate\": f\"stats(group=[hitting],type=[byDateRange], season=2022)\"})\n",
    "all_teams"
   ]
  },
  {
   "cell_type": "code",
   "execution_count": null,
   "metadata": {},
   "outputs": [],
   "source": [
    "#Printing all the NL teams as dict\n",
    "for i in range(len(all_teams['teams'])):\n",
    "    try:\n",
    "        if all_teams['teams'][i]['league']['id']==104:\n",
    "            print({all_teams['teams'][i]['id']:all_teams['teams'][i]['name']})\n",
    "    except: pass"
   ]
  },
  {
   "cell_type": "code",
   "execution_count": null,
   "metadata": {},
   "outputs": [],
   "source": [
    "#Printing all the AL teams as dict\n",
    "for i in range(len(all_teams['teams'])):\n",
    "    try:\n",
    "        if all_teams['teams'][i]['league']['id']==103:\n",
    "            print(all_teams['teams'][i]['id'])\n",
    "    except: pass"
   ]
  },
  {
   "cell_type": "code",
   "execution_count": null,
   "metadata": {},
   "outputs": [],
   "source": [
    "#Returns list of team ids in AL or NL (103 or 104)\n",
    "def team_ids_choose(id):\n",
    "    team_dict = {}\n",
    "    for i in range(len(all_teams['teams'])):\n",
    "        try:\n",
    "            if all_teams['teams'][i]['league']['id']==id:\n",
    "                team_dict[all_teams['teams'][i]['id']] = all_teams['teams'][i]['name']\n",
    "        except: pass\n",
    "    return team_dict"
   ]
  },
  {
   "cell_type": "code",
   "execution_count": null,
   "metadata": {},
   "outputs": [],
   "source": [
    "#Testing function for AL\n",
    "team_ids_choose(103)"
   ]
  },
  {
   "cell_type": "code",
   "execution_count": null,
   "metadata": {},
   "outputs": [],
   "source": [
    "#Returns list of team ids in AL and NL\n",
    "def team_id_list():\n",
    "    team_list = []\n",
    "    for i in range(len(all_teams['teams'])):\n",
    "        try:\n",
    "            if (all_teams['teams'][i]['league']['id']==103) or (all_teams['teams'][i]['league']['id']==104):\n",
    "                team_list.append(all_teams['teams'][i]['id'])\n",
    "        except: pass\n",
    "    return team_list"
   ]
  },
  {
   "cell_type": "code",
   "execution_count": null,
   "metadata": {},
   "outputs": [],
   "source": [
    "#Testing function\n",
    "team_id_list()"
   ]
  },
  {
   "cell_type": "code",
   "execution_count": null,
   "metadata": {},
   "outputs": [],
   "source": [
    "#Returns list of team ids in AL and NL\n",
    "def team_id_dict():\n",
    "    team_dict = {}\n",
    "    for i in range(len(all_teams['teams'])):\n",
    "        try:\n",
    "            if (all_teams['teams'][i]['league']['id']==103) or (all_teams['teams'][i]['league']['id']==104):\n",
    "                team_dict[all_teams['teams'][i]['id']] = all_teams['teams'][i]['name']\n",
    "        except: pass\n",
    "    return team_dict"
   ]
  },
  {
   "cell_type": "code",
   "execution_count": null,
   "metadata": {},
   "outputs": [],
   "source": [
    "#Testing team dictionary for MLB teams\n",
    "team_id_dict()"
   ]
  },
  {
   "cell_type": "markdown",
   "metadata": {},
   "source": [
    "## Getting a teams' stats - Unfinished"
   ]
  },
  {
   "cell_type": "code",
   "execution_count": null,
   "metadata": {},
   "outputs": [],
   "source": [
    "#Creating team stats function\n",
    "#Currently able to pull the team roster, need to update to pull the stats for each player.\n",
    "def team_stats(team):\n",
    "    for i in team_id_dict():\n",
    "        if team_id_dict()[i] == team:\n",
    "            team_roster = roster(i,2021)\n",
    "    return team_roster"
   ]
  },
  {
   "cell_type": "code",
   "execution_count": null,
   "metadata": {},
   "outputs": [],
   "source": [
    "team_stats('Chicago Cubs')"
   ]
  },
  {
   "cell_type": "code",
   "execution_count": null,
   "metadata": {},
   "outputs": [],
   "source": [
    "#Looking up pitcher who is a DH\n",
    "statsapi.lookup_player('shohei ohtani')"
   ]
  },
  {
   "cell_type": "code",
   "execution_count": null,
   "metadata": {},
   "outputs": [],
   "source": [
    "#Getting the type of position played - may use this for pitchers who are hitters (Called 'Two-Way Player' by the API)\n",
    "#using an if statement could work when fetching team data, as it would only have to iterate through 26 or so players per team.\n",
    "statsapi.get(\"people\", {\"personIds\": 660271, \"hydrate\": \"stats(group=[hitting],type=[byDateRange],\\\n",
    "    startDate=2021-04-07,endDate=2021-05-21,season=2021)\"})['people'][0]['primaryPosition']['type']"
   ]
  },
  {
   "cell_type": "markdown",
   "metadata": {},
   "source": [
    "## Fetch stats for the Cubs roster for 2021"
   ]
  },
  {
   "cell_type": "code",
   "execution_count": null,
   "metadata": {},
   "outputs": [],
   "source": [
    "#Getting roster for cubs for 2020\n",
    "cubs_roster = roster_pos(112,2021)\n",
    "cubs_roster"
   ]
  },
  {
   "cell_type": "code",
   "execution_count": null,
   "metadata": {},
   "outputs": [],
   "source": [
    "#Getting stats for 2021 roster\n",
    "#Need the exception, as some players on the roster may have no stats at this time...\n",
    "for i in cubs_roster:\n",
    "    try: print(player_stats(i,'2021-04-07','2021-10-05', 2021))\n",
    "    except: pass"
   ]
  },
  {
   "cell_type": "markdown",
   "metadata": {},
   "source": [
    "## Looking into Winning and Losing teams for matchups"
   ]
  },
  {
   "cell_type": "code",
   "execution_count": null,
   "metadata": {},
   "outputs": [],
   "source": [
    "#Returns matchups in given period for two teams, with outcomes.\n",
    "#Could be used to show who won/lost the game for my training data.\n",
    "statsapi.schedule(start_date='07/01/2018',end_date='07/31/2018',team=143,opponent=121)"
   ]
  },
  {
   "cell_type": "code",
   "execution_count": null,
   "metadata": {},
   "outputs": [],
   "source": [
    "#Finding winning and losing team for all matchups in a month - printing winner of first game\n",
    "winning_team = statsapi.schedule(start_date='07/01/2018',end_date='07/31/2018',team=143,opponent=121)[0]['winning_team']\n",
    "losing_team = statsapi.schedule(start_date='07/01/2018',end_date='07/31/2018',team=143,opponent=121)[0]['losing_team']\n",
    "winning_team"
   ]
  },
  {
   "cell_type": "code",
   "execution_count": null,
   "metadata": {},
   "outputs": [],
   "source": [
    "#Printing the winner of all 4 games in this time period\n",
    "for i in range(len(statsapi.schedule(start_date='07/01/2018',end_date='07/31/2018',team=143,opponent=121))):\n",
    "    winning_team = statsapi.schedule(start_date='07/01/2018',end_date='07/31/2018',team=143,opponent=121)[i]['winning_team']\n",
    "    print(winning_team)"
   ]
  },
  {
   "cell_type": "code",
   "execution_count": null,
   "metadata": {},
   "outputs": [],
   "source": [
    "#Printing the winner of all games in the 2021 season - use try, as some games will be postponed.\n",
    "for i in range(len(statsapi.schedule(start_date='2021-04-07',end_date='2021-10-05',team=143,opponent=121))):\n",
    "    try:\n",
    "        winning_team = statsapi.schedule(start_date='2021-04-07',end_date='2021-10-05',team=143,opponent=121)[i]['winning_team']\n",
    "    except: print('Game Postponed')\n",
    "    print(winning_team)"
   ]
  },
  {
   "cell_type": "code",
   "execution_count": 81,
   "metadata": {},
   "outputs": [],
   "source": [
    "#Function to return a list of dicts of outcomes for two teams seasonal matches (or period of time)\n",
    "def season_match_outcomes(team_1, team_2, season_start, season_end):\n",
    "    dict_list = []\n",
    "    for i in range(len(statsapi.schedule(start_date=season_start, end_date=season_end, team=team_1, opponent=team_2))):\n",
    "        match_dict = {}\n",
    "        try:\n",
    "            match_dict['game_id'] = statsapi.schedule(start_date=season_start, end_date=season_end, team=team_1, opponent=team_2)[i]['game_id']\n",
    "            match_dict['win'] = statsapi.schedule(start_date=season_start, end_date=season_end, team=team_1, opponent=team_2)[i]['winning_team']\n",
    "            match_dict['loss'] = statsapi.schedule(start_date=season_start, end_date=season_end, team=team_1, opponent=team_2)[i]['losing_team']\n",
    "            dict_list.append(match_dict)\n",
    "        except: pass\n",
    "    return dict_list"
   ]
  },
  {
   "cell_type": "code",
   "execution_count": null,
   "metadata": {},
   "outputs": [],
   "source": [
    "#Looking at all match outcomes for Phillies and Mets\n",
    "season_match_outcomes(121,143,'2021-04-07','2021-10-05')"
   ]
  },
  {
   "cell_type": "markdown",
   "metadata": {},
   "source": [
    "## Getting game specific data"
   ]
  },
  {
   "cell_type": "code",
   "execution_count": null,
   "metadata": {},
   "outputs": [],
   "source": [
    "#look more into this - returns a play by play of game data\n",
    "#statsapi.get(\"game\", {\"gamePk\": 530769, \"hydrate\": \"stats(group=[hitting],type=[bySeason])\"})"
   ]
  }
 ],
 "metadata": {
  "kernelspec": {
   "display_name": "Python 3.9.8 64-bit",
   "language": "python",
   "name": "python3"
  },
  "language_info": {
   "codemirror_mode": {
    "name": "ipython",
    "version": 3
   },
   "file_extension": ".py",
   "mimetype": "text/x-python",
   "name": "python",
   "nbconvert_exporter": "python",
   "pygments_lexer": "ipython3",
   "version": "3.9.8"
  },
  "orig_nbformat": 4,
  "vscode": {
   "interpreter": {
    "hash": "f450c7eb4f838dc2b8e8e4724af9f52f1f78adb4aba90f54ac373406a2721386"
   }
  }
 },
 "nbformat": 4,
 "nbformat_minor": 2
}
