{
 "cells": [
  {
   "cell_type": "code",
   "execution_count": 27,
   "metadata": {},
   "outputs": [
    {
     "name": "stdout",
     "output_type": "stream",
     "text": [
      "Score: 0.6666666666666666\n",
      "Model saved in run a6f46f9116484e0197b06d795914d186\n"
     ]
    }
   ],
   "source": [
    "import numpy as np\n",
    "from sklearn.linear_model import LogisticRegression\n",
    "\n",
    "import mlflow\n",
    "import mlflow.sklearn\n",
    "\n",
    "if __name__ == \"__main__\":\n",
    "    X = np.array([-2, -1, 0, 1, 2, 1]).reshape(-1, 1)\n",
    "    y = np.array([0, 0, 1, 1, 1, 0])\n",
    "    lr = LogisticRegression()\n",
    "    lr.fit(X, y)\n",
    "    score = lr.score(X, y)\n",
    "    print(\"Score: %s\" % score)\n",
    "    mlflow.log_metric(\"score\", score)\n",
    "    mlflow.sklearn.log_model(lr, \"model\")\n",
    "    print(\"Model saved in run %s\" % mlflow.active_run().info.run_uuid)\n",
    "    mlflow.end_run()"
   ]
  },
  {
   "cell_type": "markdown",
   "metadata": {},
   "source": [
    "## Testing Random Forest Model"
   ]
  },
  {
   "cell_type": "code",
   "execution_count": 33,
   "metadata": {},
   "outputs": [],
   "source": [
    "import pandas as pd\n",
    "from sklearn.model_selection import train_test_split"
   ]
  },
  {
   "cell_type": "code",
   "execution_count": null,
   "metadata": {},
   "outputs": [],
   "source": [
    "# Launch the experiment on mlflow\n",
    "experiment_name = \"RF 100 Games\"\n",
    "mlflow.set_experiment(experiment_name)"
   ]
  },
  {
   "cell_type": "code",
   "execution_count": 34,
   "metadata": {},
   "outputs": [],
   "source": [
    "df = pd.read_csv('Games_1_100.csv')"
   ]
  },
  {
   "cell_type": "code",
   "execution_count": 83,
   "metadata": {},
   "outputs": [],
   "source": [
    "#Defining X and y variables\n",
    "X = df.drop(['game_id','home_win'], axis=1)\n",
    "y = df['home_win']"
   ]
  },
  {
   "cell_type": "code",
   "execution_count": 84,
   "metadata": {},
   "outputs": [],
   "source": [
    "x_train, x_test, y_train, y_test = train_test_split(X, y, test_size=0.2, random_state=10)"
   ]
  },
  {
   "cell_type": "code",
   "execution_count": 85,
   "metadata": {},
   "outputs": [],
   "source": [
    "#Scale the Data\n",
    "from sklearn.preprocessing import StandardScaler\n",
    "sc = StandardScaler()\n",
    "x_train2 = sc.fit_transform(x_train)\n",
    "x_test2 = sc.transform(x_test)"
   ]
  },
  {
   "cell_type": "code",
   "execution_count": 86,
   "metadata": {},
   "outputs": [
    {
     "name": "stdout",
     "output_type": "stream",
     "text": [
      "[[5 1]\n",
      " [5 9]]\n",
      "              precision    recall  f1-score   support\n",
      "\n",
      "        loss       0.50      0.83      0.62         6\n",
      "         win       0.90      0.64      0.75        14\n",
      "\n",
      "    accuracy                           0.70        20\n",
      "   macro avg       0.70      0.74      0.69        20\n",
      "weighted avg       0.78      0.70      0.71        20\n",
      "\n"
     ]
    }
   ],
   "source": [
    "#Script for Logistical Regression\n",
    "from sklearn.ensemble import RandomForestClassifier\n",
    "from sklearn.metrics import classification_report, confusion_matrix  \n",
    "\n",
    "for name,method in [('RandomForestClassifier', RandomForestClassifier(n_estimators = 10, criterion = 'entropy',random_state=10))]: \n",
    "    method.fit(x_train2,y_train)\n",
    "    predict = method.predict(x_test2)\n",
    "    target_names=['loss', 'win']\n",
    "    print(confusion_matrix(y_test,predict))  \n",
    "    print(classification_report(y_test,predict,target_names=target_names))"
   ]
  },
  {
   "cell_type": "markdown",
   "metadata": {},
   "source": [
    "## Trial 2 - Testing different accuracies"
   ]
  },
  {
   "cell_type": "code",
   "execution_count": 54,
   "metadata": {},
   "outputs": [],
   "source": [
    "#Defining X and y variables\n",
    "X = df.drop(['game_id','home_win'], axis=1)\n",
    "y = df['home_win']"
   ]
  },
  {
   "cell_type": "code",
   "execution_count": 55,
   "metadata": {},
   "outputs": [],
   "source": [
    "from sklearn.model_selection import train_test_split\n",
    "x_train, x_test, y_train, y_test = train_test_split(X, y, test_size=0.2, random_state=10)"
   ]
  },
  {
   "cell_type": "code",
   "execution_count": null,
   "metadata": {},
   "outputs": [],
   "source": [
    "#Script for Logistical Regression\n",
    "from sklearn.ensemble import RandomForestClassifier\n",
    "from sklearn.metrics import classification_report, confusion_matrix, accuracy_score  \n",
    "from sklearn.model_selection import cross_val_score\n",
    "from sklearn.model_selection import RepeatedStratifiedKFold\n",
    "from numpy import mean\n",
    "from numpy import std\n",
    "\n",
    "for name,method in [('RandomForestClassifier', RandomForestClassifier(n_estimators = 10, criterion = 'entropy',random_state=10))]: \n",
    "    method.fit(x_train,y_train)\n",
    "    predict = method.predict(x_test)\n",
    "    target_names=['loss', 'win']\n",
    "    # Calculate the absolute errors\n",
    "    errors = abs(predict - y_test)\n",
    "    cv = RepeatedStratifiedKFold(n_splits=10, n_repeats=3, random_state=1)\n",
    "    n_scores = cross_val_score(method, X, y, scoring='accuracy', cv=cv, n_jobs=-1, error_score='raise')\n",
    "    n2_scores = cross_val_score(method, X, y, scoring='neg_mean_absolute_error', cv=cv, n_jobs=-1, error_score='raise')\n",
    "    print('MAE: %.3f (%.3f)' % (mean(n2_scores), std(n2_scores)))\n",
    "    #Accuracy performance\n",
    "    print('Accuracy: %.3f (%.3f)' % (mean(n_scores), std(n_scores)))\n",
    "    # Print out the mean absolute error (mae)\n",
    "    print('Mean Absolute Error:', round(np.mean(errors), 2), 'degrees.')\n",
    "    print(accuracy_score(y_test, predict))\n",
    "    print(confusion_matrix(y_test,predict))  \n",
    "    print(classification_report(y_test,predict,target_names=target_names))"
   ]
  },
  {
   "cell_type": "markdown",
   "metadata": {},
   "source": [
    "## Testing RF Model with MLFlow"
   ]
  },
  {
   "cell_type": "code",
   "execution_count": 98,
   "metadata": {},
   "outputs": [],
   "source": [
    "# Launch the experiment on mlflow\n",
    "experiment_name = \"RF 100 Games Test\"\n",
    "mlflow.set_experiment(experiment_name)\n",
    "\n",
    "df = pd.read_csv('Games_1_100.csv')\n",
    "\n",
    "#Defining X and y variables\n",
    "X = df.drop(['game_id','home_win'], axis=1)\n",
    "y = df['home_win']\n",
    "\n",
    "x_train, x_test, y_train, y_test = train_test_split(X, y, test_size=0.2, random_state=10)\n",
    "\n",
    "#Script for Logistical Regression\n",
    "from sklearn.ensemble import RandomForestClassifier\n",
    "from sklearn.metrics import classification_report, confusion_matrix \n",
    "\n",
    "for name,method in [('RandomForestClassifier', RandomForestClassifier(n_estimators = 10, criterion = 'entropy',random_state=10))]: \n",
    "    method.fit(x_train2,y_train)\n",
    "    predict = method.predict(x_test2)\n",
    "    target_names=['loss', 'win']\n",
    "    metrics = {'Accuracy':accuracy_score(y_test,predict)}\n",
    "    cm = confusion_matrix(y_test, predict)\n",
    "    t_n, f_p, f_n, t_p = cm.ravel()\n",
    "    mlflow.log_metric(\"tn\", t_n)\n",
    "    mlflow.log_metric(\"fp\", f_p)\n",
    "    mlflow.log_metric(\"fn\", f_n)\n",
    "    mlflow.log_metric(\"tp\", t_p)\n",
    "    # Log in mlflow (metrics)\n",
    "    mlflow.log_metrics(metrics)\n",
    "    mlflow.sklearn.log_model(method, \"RF-model\")\n",
    "mlflow.end_run()"
   ]
  },
  {
   "cell_type": "markdown",
   "metadata": {},
   "source": [
    "## Adding to the model"
   ]
  },
  {
   "cell_type": "code",
   "execution_count": 99,
   "metadata": {},
   "outputs": [],
   "source": [
    "# Launch the experiment on mlflow\n",
    "experiment_name = \"RF 100 Games Test\"\n",
    "mlflow.set_experiment(experiment_name)\n",
    "\n",
    "df = pd.read_csv('Games_1_100.csv')\n",
    "\n",
    "#Defining X and y variables\n",
    "X = df.drop(['game_id','home_win'], axis=1)\n",
    "y = df['home_win']\n",
    "\n",
    "x_train, x_test, y_train, y_test = train_test_split(X, y, test_size=0.2, random_state=10)\n",
    "\n",
    "#Script for Logistical Regression\n",
    "from sklearn.ensemble import RandomForestClassifier\n",
    "from sklearn.metrics import classification_report, confusion_matrix \n",
    "n_estimators = 10\n",
    "max_depth = 6\n",
    "max_features = 3 \n",
    "\n",
    "for name,method in [('RandomForestClassifier', RandomForestClassifier(n_estimators = n_estimators, max_depth = max_depth, max_features = max_features, random_state=10))]: \n",
    "    method.fit(x_train2,y_train)\n",
    "    predict = method.predict(x_test2)\n",
    "    target_names=['loss', 'win']\n",
    "\n",
    "    # Log parameters\n",
    "    mlflow.log_param(\"num_trees\", n_estimators)\n",
    "    mlflow.log_param(\"maxdepth\", max_depth)\n",
    "    mlflow.log_param(\"max_feat\", max_features)\n",
    "\n",
    "    #Creating metrics\n",
    "    metrics = {'Accuracy':accuracy_score(y_test,predict)}\n",
    "    cm = confusion_matrix(y_test, predict)\n",
    "    t_n, f_p, f_n, t_p = cm.ravel()\n",
    "\n",
    "    # Log in mlflow (metrics)\n",
    "    mlflow.log_metric(\"tn\", t_n)\n",
    "    mlflow.log_metric(\"fp\", f_p)\n",
    "    mlflow.log_metric(\"fn\", f_n)\n",
    "    mlflow.log_metric(\"tp\", t_p)\n",
    "    mlflow.log_metrics(metrics)\n",
    "    \n",
    "    #Logging model\n",
    "    mlflow.sklearn.log_model(method, \"RF-model\")\n",
    "mlflow.end_run()"
   ]
  },
  {
   "cell_type": "code",
   "execution_count": null,
   "metadata": {},
   "outputs": [],
   "source": []
  }
 ],
 "metadata": {
  "kernelspec": {
   "display_name": "Python 3.9.7 ('base')",
   "language": "python",
   "name": "python3"
  },
  "language_info": {
   "codemirror_mode": {
    "name": "ipython",
    "version": 3
   },
   "file_extension": ".py",
   "mimetype": "text/x-python",
   "name": "python",
   "nbconvert_exporter": "python",
   "pygments_lexer": "ipython3",
   "version": "3.9.7"
  },
  "orig_nbformat": 4,
  "vscode": {
   "interpreter": {
    "hash": "0eb5d0a65b500759bcde1c4c1ad0551eaece71d5bef76353acf57400c52edb49"
   }
  }
 },
 "nbformat": 4,
 "nbformat_minor": 2
}
