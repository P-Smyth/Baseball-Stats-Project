{
 "cells": [
  {
   "cell_type": "markdown",
   "metadata": {},
   "source": [
    "## Adapting functions for 2022 stats"
   ]
  },
  {
   "cell_type": "code",
   "execution_count": 8,
   "metadata": {},
   "outputs": [],
   "source": [
    "#Imports\n",
    "import statsapi\n",
    "import datetime \n",
    "import pandas as pd\n",
    "import json\n",
    "from functools import reduce\n",
    "import numpy as np"
   ]
  },
  {
   "cell_type": "code",
   "execution_count": 4,
   "metadata": {},
   "outputs": [],
   "source": [
    "#Used in the player stats function\n",
    "def add_dicts(d1, d2):\n",
    "    d3 = dict(d1)\n",
    "    d3.update(d2)\n",
    "    try:\n",
    "        for i, j in d1.items():\n",
    "\n",
    "            for x, y in d2.items():\n",
    "\n",
    "                if (i == x):\n",
    "\n",
    "                    d3[i]=(j+y)\n",
    "    except: pass\n",
    "    return d3"
   ]
  },
  {
   "cell_type": "code",
   "execution_count": 5,
   "metadata": {},
   "outputs": [],
   "source": [
    "#Function to return player stats - hitting, pitching, and fielding\n",
    "\n",
    "#Inputs are the id, start date and end date and the season year\n",
    "\n",
    "def player_stats(id,start_date, end_date, year):\n",
    "\n",
    "    #Getting player stats - separately because the API switches their order when fetched at the same time \n",
    "    hitting_stats = statsapi.get(\"people\", {\"personIds\": id, \"hydrate\": f\"stats(group=[hitting],type=[byDateRange],startDate={start_date},endDate={end_date},season={year})\"})\n",
    "    pitching_stats = statsapi.get(\"people\", {\"personIds\": id, \"hydrate\": f\"stats(group=[pitching],type=[byDateRange],startDate={start_date},endDate={end_date},season={year})\"})\n",
    "    fielding_stats = statsapi.get(\"people\", {\"personIds\": id, \"hydrate\": f\"stats(group=[fielding],type=[byDateRange],startDate={start_date},endDate={end_date},season={year})\"})\n",
    "\n",
    "    #dict where I will add all the collected stats\n",
    "    stat_dict = {}\n",
    "\n",
    "    #Temporary storage for fielding dicts for all positions\n",
    "    fielding_list = []\n",
    "\n",
    "    #List to check if the stats for a fielding position have already been collected - as they are listed more than once\n",
    "    pos_codes = []\n",
    "\n",
    "    #Taking last entry of hitting stats, as that is the cumulative for the date range\n",
    "    try:\n",
    "        player_hitting_stats = hitting_stats['people'][0]['stats'][0]['splits'][-1]['stat']\n",
    "        stat_dict['hitting'] = player_hitting_stats\n",
    "    except: pass\n",
    "    \n",
    "    #Taking last entry of pitching stats, as that is the cumulative for the date range\n",
    "    try:\n",
    "        player_pitching_stats = pitching_stats['people'][0]['stats'][0]['splits'][-1]['stat']\n",
    "        stat_dict['pitching'] = player_pitching_stats\n",
    "    except: pass\n",
    "\n",
    "    #Summing cumulative fielding stats for each position played (Team changes now accounted for)\n",
    "    try:\n",
    "        for i in range(len(fielding_stats['people'][0]['stats'][0]['splits'])):\n",
    "            if fielding_stats['people'][0]['stats'][0]['splits'][i]['sport']['abbreviation'] == 'All':\n",
    "                fielding_list.append(fielding_stats['people'][0]['stats'][0]['splits'][i]['stat']) \n",
    "                \n",
    "        all_fielding = {}\n",
    "\n",
    "        for i in range(len(fielding_list)):\n",
    "            all_fielding = add_dicts(all_fielding, fielding_list[i])\n",
    "        stat_dict['fielding'] = all_fielding\n",
    "        \n",
    "        \n",
    "    except:pass\n",
    "    return stat_dict"
   ]
  },
  {
   "cell_type": "code",
   "execution_count": 51,
   "metadata": {},
   "outputs": [],
   "source": [
    "#Start of 2022 season\n",
    "season_info = statsapi.get(\"seasons\", {\"sportId\": 1, \"season\": 2022})\n",
    "start_date = season_info['seasons'][0]['regularSeasonStartDate']"
   ]
  },
  {
   "cell_type": "code",
   "execution_count": 27,
   "metadata": {},
   "outputs": [],
   "source": [
    "home_team = input('Enter the name of the home team')\n",
    "away_team = input('Enter the name of the away team')\n",
    "\n",
    "home_info = statsapi.lookup_team(home_team)\n",
    "away_info = statsapi.lookup_team(away_team)\n"
   ]
  },
  {
   "cell_type": "code",
   "execution_count": null,
   "metadata": {},
   "outputs": [],
   "source": [
    "home_info"
   ]
  },
  {
   "cell_type": "code",
   "execution_count": 97,
   "metadata": {},
   "outputs": [],
   "source": [
    "#Getting home team hitting stats \n",
    "h_params = {'season':2022, 'stats':'season', 'group': 'hitting', 'sportIds':1, 'teamId': home_info[0]['id']} #include sportIds=1 to only return data for MLB\n",
    "h_hit_stats = statsapi.get('team_stats', h_params, force=True)"
   ]
  },
  {
   "cell_type": "code",
   "execution_count": 126,
   "metadata": {},
   "outputs": [],
   "source": [
    "#Getting away team hitting stats \n",
    "a_params = {'season':2022, 'stats':'season', 'group': 'hitting', 'sportIds':1, 'teamId': away_info[0]['id']} #include sportIds=1 to only return data for MLB\n",
    "a_hit_stats = statsapi.get('team_stats', a_params, force=True)"
   ]
  },
  {
   "cell_type": "code",
   "execution_count": 116,
   "metadata": {},
   "outputs": [
    {
     "data": {
      "text/plain": [
       "536"
      ]
     },
     "execution_count": 116,
     "metadata": {},
     "output_type": "execute_result"
    }
   ],
   "source": [
    "h_hit_stats['stats'][0]['splits'][0]['stat']['runs']"
   ]
  },
  {
   "cell_type": "code",
   "execution_count": 69,
   "metadata": {},
   "outputs": [
    {
     "data": {
      "text/plain": [
       "660271"
      ]
     },
     "execution_count": 69,
     "metadata": {},
     "output_type": "execute_result"
    }
   ],
   "source": [
    "statsapi.lookup_player('Shohei Ohtani')[0]['id']"
   ]
  },
  {
   "cell_type": "code",
   "execution_count": 68,
   "metadata": {},
   "outputs": [
    {
     "data": {
      "text/plain": [
       "125"
      ]
     },
     "execution_count": 68,
     "metadata": {},
     "output_type": "execute_result"
    }
   ],
   "source": [
    "statsapi.player_stat_data(660271)['stats'][0]['stats']['hits']"
   ]
  },
  {
   "cell_type": "code",
   "execution_count": 47,
   "metadata": {},
   "outputs": [],
   "source": [
    "#Getting dictionary of team roster from API\n",
    "h_roster_dict = statsapi.get(\"team_roster\", {\"teamId\": home_info[0]['id']})\n",
    "a_roster_dict = statsapi.get(\"team_roster\", {\"teamId\": away_info[0]['id']})"
   ]
  },
  {
   "cell_type": "code",
   "execution_count": 48,
   "metadata": {},
   "outputs": [],
   "source": [
    "#Storing player_ids as a list\n",
    "h_roster_list = [h_roster_dict['roster'][i]['person']['id'] for i in range(len(h_roster_dict['roster']))]\n",
    "a_roster_list = [a_roster_dict['roster'][i]['person']['id'] for i in range(len(a_roster_dict['roster']))]\n"
   ]
  },
  {
   "cell_type": "code",
   "execution_count": 75,
   "metadata": {},
   "outputs": [],
   "source": [
    "#Function that returns the outcomes for each game, as a dict\n",
    "\n",
    "def season_match_outcomes(season_start, season_end):\n",
    "    dict_list = []\n",
    "    for i in statsapi.schedule(start_date=season_start, end_date=season_end):\n",
    "        match_dict = {}\n",
    "        try:\n",
    "            match_dict['game_id'] = i['game_id']\n",
    "            match_dict['win'] = i['winning_team']\n",
    "            match_dict['loss'] = i['losing_team']\n",
    "            dict_list.append(match_dict)\n",
    "        except: pass\n",
    "    return dict_list"
   ]
  },
  {
   "cell_type": "code",
   "execution_count": 70,
   "metadata": {},
   "outputs": [],
   "source": [
    "#Function that calcualtes a team's win % up to a specific date\n",
    "\n",
    "#Takes the team_id as an input, as well as the start and end date of the period\n",
    "\n",
    "def team_record(team_id, start_date, end_date):\n",
    "    results = season_match_outcomes(start_date, end_date)\n",
    "    wins = 0\n",
    "    losses = 0\n",
    "    team_name = statsapi.lookup_team(team_id)[0]['name']\n",
    "    for i in range(len(results)):\n",
    "        if team_name == 'Cleveland Guardians':\n",
    "            if (results[i]['win'] == team_name) or (results[i]['win'] =='Cleveland Indians'):\n",
    "                wins+=1\n",
    "            elif (results[i]['loss'] == team_name) or (results[i]['loss'] =='Cleveland Indians'):\n",
    "                losses+=1\n",
    "        else:\n",
    "            if results[i]['win'] == team_name:\n",
    "                wins+=1\n",
    "            elif results[i]['loss'] == team_name:\n",
    "                losses+=1\n",
    "    return round(wins/(wins+losses),3)"
   ]
  },
  {
   "cell_type": "code",
   "execution_count": 71,
   "metadata": {},
   "outputs": [],
   "source": [
    "def log_5(home_team_id, away_team_id, start_date, end_date):\n",
    "    home_per = team_record(home_team_id, start_date, end_date)\n",
    "    away_per = team_record(away_team_id, start_date, end_date)\n",
    "    log5 = (home_per - (home_per * away_per))/(home_per + away_per - (2*home_per*away_per))\n",
    "    return log5"
   ]
  },
  {
   "cell_type": "code",
   "execution_count": 127,
   "metadata": {},
   "outputs": [],
   "source": [
    "def all_hit_stats_df(df_home, df_away):\n",
    "\n",
    "    #End date - date of the game input\n",
    "    end_date = datetime.datetime.today().strftime('%Y-%m-%d')\n",
    "\n",
    "    #year is used in the player_stats function, and is the first 4 characters of the date string\n",
    "    year = 2022\n",
    "\n",
    "    #Id of home team\n",
    "    home_id = home_info[0]['id']\n",
    "\n",
    "    #Id of away team\n",
    "    away_id = away_info[0]['id']\n",
    "        \n",
    "    #Getting start date for rolling 10 day stats - 9 days before the end_date\n",
    "    rolling_start_date = (datetime.datetime.strptime(end_date, \"%Y-%m-%d\") + datetime.timedelta(days=-9)).strftime('%Y-%m-%d')\n",
    "\n",
    "    #List of stats being pulled from API\n",
    "    hitting_stats = ['hits', 'baseOnBalls', 'atBats', 'hitByPitch','doubles', 'triples', 'homeRuns', 'plateAppearances', 'runs']\n",
    "\n",
    "    #Calculating polynomial expectation\n",
    "\n",
    "    log5 = log_5(home_id, away_id, start_date, end_date)\n",
    "\n",
    "    #Initializing home stats variables for rolling hitting stats\n",
    "    h_r_hits = 0\n",
    "    h_r_baseOnBalls = 0\n",
    "    h_r_atBats = 0\n",
    "    h_r_hitByPitch = 0\n",
    "    h_r_doubles = 0\n",
    "    h_r_triples = 0\n",
    "    h_r_homeRuns= 0\n",
    "    h_r_plateAppearances = 0\n",
    "\n",
    "    #Initializing away stats variables for rolling hitting stats\n",
    "    a_r_hits = 0\n",
    "    a_r_baseOnBalls = 0\n",
    "    a_r_atBats = 0\n",
    "    a_r_hitByPitch = 0\n",
    "    a_r_doubles = 0\n",
    "    a_r_triples = 0\n",
    "    a_r_homeRuns= 0\n",
    "    a_r_plateAppearances = 0\n",
    "\n",
    "    #Getting stats for the home team\n",
    "    h_hits= h_hit_stats['stats'][0]['splits'][0]['stat']['hits']\n",
    "    h_baseOnBalls= h_hit_stats['stats'][0]['splits'][0]['stat']['baseOnBalls']\n",
    "    h_atBats= h_hit_stats['stats'][0]['splits'][0]['stat']['atBats']\n",
    "    h_hitByPitch= h_hit_stats['stats'][0]['splits'][0]['stat']['hitByPitch']\n",
    "    h_doubles= h_hit_stats['stats'][0]['splits'][0]['stat']['doubles']\n",
    "    h_triples= h_hit_stats['stats'][0]['splits'][0]['stat']['triples']\n",
    "    h_homeRuns= h_hit_stats['stats'][0]['splits'][0]['stat']['homeRuns']\n",
    "    h_plateAppearances= h_hit_stats['stats'][0]['splits'][0]['stat']['plateAppearances']\n",
    "    h_runs= h_hit_stats['stats'][0]['splits'][0]['stat']['runs']\n",
    "\n",
    "    #Getting rolling 10 day stats \n",
    "    for j in h_roster_list:\n",
    "        try:\n",
    "            #Storing all rolling stats as a list\n",
    "            stat_list_10 = [player_stats(j, rolling_start_date, end_date, year)['hitting'][i] for i in hitting_stats]\n",
    "            \n",
    "            #Adding the home team rolling stats together for the time period\n",
    "            h_r_hits+= stat_list_10[0]\n",
    "            h_r_baseOnBalls+= stat_list_10[1]\n",
    "            h_r_atBats+= stat_list_10[2]\n",
    "            h_r_hitByPitch+= stat_list_10[3]\n",
    "            h_r_doubles+= stat_list_10[4]\n",
    "            h_r_triples+= stat_list_10[5]\n",
    "            h_r_homeRuns+= stat_list_10[6]\n",
    "            h_r_plateAppearances+= stat_list_10[7]\n",
    "        except: pass\n",
    "\n",
    "    #Getting stats for the away team\n",
    "    a_hits= a_hit_stats['stats'][0]['splits'][0]['stat']['hits']\n",
    "    a_baseOnBalls= a_hit_stats['stats'][0]['splits'][0]['stat']['baseOnBalls']\n",
    "    a_atBats= a_hit_stats['stats'][0]['splits'][0]['stat']['atBats']\n",
    "    a_hitByPitch= a_hit_stats['stats'][0]['splits'][0]['stat']['hitByPitch']\n",
    "    a_doubles= a_hit_stats['stats'][0]['splits'][0]['stat']['doubles']\n",
    "    a_triples= a_hit_stats['stats'][0]['splits'][0]['stat']['triples']\n",
    "    a_homeRuns= a_hit_stats['stats'][0]['splits'][0]['stat']['homeRuns']\n",
    "    a_plateAppearances= a_hit_stats['stats'][0]['splits'][0]['stat']['plateAppearances']\n",
    "    a_runs= a_hit_stats['stats'][0]['splits'][0]['stat']['runs']\n",
    "\n",
    "    #Getting stats for each player on the away team\n",
    "    for j in a_roster_list:   \n",
    "        try:\n",
    "            #Storing all rolling stats as a list\n",
    "            stat_list_10 = [player_stats(j, rolling_start_date, end_date, year)['hitting'][i] for i in hitting_stats]\n",
    "\n",
    "            #Adding the away team rolling stats together for the time period\n",
    "            a_r_hits+= stat_list_10[0]\n",
    "            a_r_baseOnBalls+= stat_list_10[1]\n",
    "            a_r_atBats+= stat_list_10[2]\n",
    "            a_r_hitByPitch+= stat_list_10[3]\n",
    "            a_r_doubles+= stat_list_10[4]\n",
    "            a_r_triples+= stat_list_10[5]\n",
    "            a_r_homeRuns+= stat_list_10[6]\n",
    "            a_r_plateAppearances+= stat_list_10[7]\n",
    "        except: pass\n",
    "    #appending stats to their respective dfs\n",
    "    df_home.loc[len(df_home)] = [round(h_hits/h_atBats,3),round((h_hits+h_baseOnBalls+h_hitByPitch)/h_plateAppearances,3),round((h_hits+h_doubles+h_triples*2+h_homeRuns*3)/h_atBats,3),round((h_r_hits+h_r_baseOnBalls+h_r_hitByPitch)/h_r_plateAppearances,3),round((h_r_hits+h_r_doubles+h_r_triples*2+h_r_homeRuns*3)/h_r_atBats,3), log5, h_runs,0]\n",
    "    df_away.loc[len(df_away)] = [round(a_hits/a_atBats,3),round((a_hits+a_baseOnBalls+a_hitByPitch)/a_plateAppearances,3),round((a_hits+a_doubles+a_triples*2+a_homeRuns*3)/a_atBats,3),round((a_r_hits+a_r_baseOnBalls+a_r_hitByPitch)/a_r_plateAppearances,3),round((a_r_hits+a_r_doubles+a_r_triples*2+a_r_homeRuns*3)/a_r_atBats,3), 0,0,(a_runs*-1)]\n",
    "    #Returning the difference of home and away team stats\n",
    "    return df_home.subtract(df_away, fill_value =0)\n",
    "\n"
   ]
  },
  {
   "cell_type": "markdown",
   "metadata": {},
   "source": [
    "#### Testing function"
   ]
  },
  {
   "cell_type": "code",
   "execution_count": 128,
   "metadata": {},
   "outputs": [],
   "source": [
    "#Creating the empty dfs to be populated by all_team_stats\n",
    "\n",
    "#Name of columns\n",
    "team_hit_stats = ['avg', 'obp', 'slug', 'obp_10', 'slug_10', 'log_5', 'h_runs', 'a_runs']\n",
    "\n",
    "#dfs\n",
    "df_h_h = pd.DataFrame(columns = team_hit_stats)\n",
    "df_a_h = pd.DataFrame(columns = team_hit_stats)"
   ]
  },
  {
   "cell_type": "code",
   "execution_count": 129,
   "metadata": {},
   "outputs": [
    {
     "data": {
      "text/html": [
       "<div>\n",
       "<style scoped>\n",
       "    .dataframe tbody tr th:only-of-type {\n",
       "        vertical-align: middle;\n",
       "    }\n",
       "\n",
       "    .dataframe tbody tr th {\n",
       "        vertical-align: top;\n",
       "    }\n",
       "\n",
       "    .dataframe thead th {\n",
       "        text-align: right;\n",
       "    }\n",
       "</style>\n",
       "<table border=\"1\" class=\"dataframe\">\n",
       "  <thead>\n",
       "    <tr style=\"text-align: right;\">\n",
       "      <th></th>\n",
       "      <th>avg</th>\n",
       "      <th>obp</th>\n",
       "      <th>slug</th>\n",
       "      <th>obp_10</th>\n",
       "      <th>slug_10</th>\n",
       "      <th>log_5</th>\n",
       "      <th>h_runs</th>\n",
       "      <th>a_runs</th>\n",
       "    </tr>\n",
       "  </thead>\n",
       "  <tbody>\n",
       "    <tr>\n",
       "      <th>0</th>\n",
       "      <td>-0.018</td>\n",
       "      <td>-0.002</td>\n",
       "      <td>0.005</td>\n",
       "      <td>-0.074</td>\n",
       "      <td>-0.076</td>\n",
       "      <td>0.437779</td>\n",
       "      <td>536.0</td>\n",
       "      <td>540.0</td>\n",
       "    </tr>\n",
       "  </tbody>\n",
       "</table>\n",
       "</div>"
      ],
      "text/plain": [
       "     avg    obp   slug  obp_10  slug_10     log_5  h_runs  a_runs\n",
       "0 -0.018 -0.002  0.005  -0.074   -0.076  0.437779   536.0   540.0"
      ]
     },
     "execution_count": 129,
     "metadata": {},
     "output_type": "execute_result"
    }
   ],
   "source": [
    "#Takes 38s\n",
    "all_hit_stats_df(df_h_h,df_a_h)"
   ]
  },
  {
   "cell_type": "code",
   "execution_count": null,
   "metadata": {},
   "outputs": [],
   "source": []
  },
  {
   "cell_type": "code",
   "execution_count": null,
   "metadata": {},
   "outputs": [],
   "source": []
  },
  {
   "cell_type": "code",
   "execution_count": null,
   "metadata": {},
   "outputs": [],
   "source": []
  }
 ],
 "metadata": {
  "kernelspec": {
   "display_name": "Python 3.9.8 64-bit",
   "language": "python",
   "name": "python3"
  },
  "language_info": {
   "codemirror_mode": {
    "name": "ipython",
    "version": 3
   },
   "file_extension": ".py",
   "mimetype": "text/x-python",
   "name": "python",
   "nbconvert_exporter": "python",
   "pygments_lexer": "ipython3",
   "version": "3.9.8"
  },
  "orig_nbformat": 4,
  "vscode": {
   "interpreter": {
    "hash": "f450c7eb4f838dc2b8e8e4724af9f52f1f78adb4aba90f54ac373406a2721386"
   }
  }
 },
 "nbformat": 4,
 "nbformat_minor": 2
}
