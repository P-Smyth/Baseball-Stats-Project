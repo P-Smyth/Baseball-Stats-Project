{
 "cells": [
  {
   "cell_type": "markdown",
   "metadata": {},
   "source": [
    "# Creating a data set for model training from 2021 season data"
   ]
  },
  {
   "cell_type": "code",
   "execution_count": 15,
   "metadata": {},
   "outputs": [],
   "source": [
    "#Imports\n",
    "import statsapi\n",
    "import datetime \n",
    "import pandas as pd"
   ]
  },
  {
   "cell_type": "code",
   "execution_count": 2,
   "metadata": {},
   "outputs": [],
   "source": [
    "#Getting start date and end date of a season\n",
    "def season_start_end(year):\n",
    "    season_info = statsapi.get(\"seasons\", {\"sportId\": 1, \"season\": year})\n",
    "    season_start = season_info['seasons'][0]['regularSeasonStartDate']\n",
    "    season_end = season_info['seasons'][0]['regularSeasonEndDate']\n",
    "    return [season_start, season_end]"
   ]
  },
  {
   "cell_type": "code",
   "execution_count": 3,
   "metadata": {},
   "outputs": [],
   "source": [
    "start_end_2021 = season_start_end(2021)\n",
    "season_start = start_end_2021[0]\n",
    "season_end = start_end_2021[1]"
   ]
  },
  {
   "cell_type": "code",
   "execution_count": 4,
   "metadata": {},
   "outputs": [],
   "source": [
    "#Adding 35 days to the season start, when I want to start collecting data\n",
    "season_start_offset = (datetime.datetime.strptime(season_start, \"%Y-%m-%d\") + datetime.timedelta(days=35)).strftime('%Y-%m-%d')"
   ]
  },
  {
   "cell_type": "code",
   "execution_count": 5,
   "metadata": {},
   "outputs": [],
   "source": [
    "#Geting all season matchup outcomes\n",
    "def season_match_outcomes(season_start, season_end):\n",
    "    dict_list = []\n",
    "    for i in statsapi.schedule(start_date=season_start, end_date=season_end):\n",
    "        match_dict = {}\n",
    "        try:\n",
    "            match_dict['game_id'] = i['game_id']\n",
    "            match_dict['win'] = i['winning_team']\n",
    "            match_dict['loss'] = i['losing_team']\n",
    "            dict_list.append(match_dict)\n",
    "        except: pass\n",
    "    return dict_list"
   ]
  },
  {
   "cell_type": "code",
   "execution_count": 6,
   "metadata": {},
   "outputs": [],
   "source": [
    "#Setting variable to the output for season match outcomes\n",
    "all_matches = season_match_outcomes(season_start_offset, season_end)"
   ]
  },
  {
   "cell_type": "code",
   "execution_count": 7,
   "metadata": {},
   "outputs": [],
   "source": [
    "#Creating a list of all game ids for period in 2021 season\n",
    "game_ids = [i['game_id'] for i in all_matches]"
   ]
  },
  {
   "cell_type": "code",
   "execution_count": null,
   "metadata": {},
   "outputs": [],
   "source": [
    "game_info = statsapi.boxscore_data(632520, timecode=None)\n",
    "game_info"
   ]
  },
  {
   "cell_type": "code",
   "execution_count": null,
   "metadata": {},
   "outputs": [],
   "source": [
    "#Takes a long time to run (16min) - There was a better way I am sure, a df would have been better, but using this for now\n",
    "#Commenting out to not run again\n",
    "#dict_list = []\n",
    "#for i in game_ids:\n",
    "#    game_info = statsapi.boxscore_data(i, timecode=None)\n",
    "#    roster_dict = {}\n",
    "#    roster_dict['game_id'] = int(i)\n",
    "#    roster_dict['home_roster'] = game_info['home']['battingOrder'] + game_info['home']['bullpen']\n",
    "#    roster_dict['away_roster'] = game_info['away']['battingOrder'] + game_info['away']['bullpen']\n",
    "#    dict_list.append(roster_dict)\n",
    "#dict_list"
   ]
  },
  {
   "cell_type": "code",
   "execution_count": 53,
   "metadata": {},
   "outputs": [],
   "source": [
    "#Creating json from above dict_list\n",
    "#Commenting out to not run again\n",
    "#import json\n",
    "#with open('roster_dict', 'w') as fout:\n",
    "#    json.dump(dict_list, fout)"
   ]
  },
  {
   "cell_type": "code",
   "execution_count": null,
   "metadata": {},
   "outputs": [],
   "source": [
    "#Create function to get player stats\n",
    "#Inputs are the id, start date and end date\n",
    "def player_stats(id,start_date, end_date, season):\n",
    "    player_info = statsapi.get(\"people\", {\"personIds\": id, \"hydrate\": f\"stats(group=[hitting,fielding,pitching],type=[byDateRange],\\\n",
    "    startDate={start_date},endDate={end_date},season={season})\"})\n",
    "    stat_dict = {}\n",
    "    try:\n",
    "        player_hitting_stats = player_info['people'][0]['stats'][0]['splits'][0]['stat']\n",
    "        stat_dict['hitting'] = player_hitting_stats\n",
    "    except: pass\n",
    "    try: \n",
    "        player_fielding_stats = player_info['people'][0]['stats'][1]['splits'][0]['stat']\n",
    "        stat_dict['fielding'] = player_fielding_stats\n",
    "    except: pass\n",
    "    try:\n",
    "        player_pitching_stats = player_info['people'][0]['stats'][2]['splits'][0]['stat']\n",
    "        stat_dict['pitching'] = player_pitching_stats\n",
    "    except:pass\n",
    "    return stat_dict"
   ]
  },
  {
   "cell_type": "code",
   "execution_count": null,
   "metadata": {},
   "outputs": [],
   "source": [
    "#Testing function for 2020\n",
    "player_stats(592450,'2020-07-07','2020-10-22', 2020)"
   ]
  },
  {
   "cell_type": "code",
   "execution_count": null,
   "metadata": {},
   "outputs": [],
   "source": []
  }
 ],
 "metadata": {
  "kernelspec": {
   "display_name": "Python 3.9.8 64-bit",
   "language": "python",
   "name": "python3"
  },
  "language_info": {
   "codemirror_mode": {
    "name": "ipython",
    "version": 3
   },
   "file_extension": ".py",
   "mimetype": "text/x-python",
   "name": "python",
   "nbconvert_exporter": "python",
   "pygments_lexer": "ipython3",
   "version": "3.9.8"
  },
  "orig_nbformat": 4,
  "vscode": {
   "interpreter": {
    "hash": "f450c7eb4f838dc2b8e8e4724af9f52f1f78adb4aba90f54ac373406a2721386"
   }
  }
 },
 "nbformat": 4,
 "nbformat_minor": 2
}
