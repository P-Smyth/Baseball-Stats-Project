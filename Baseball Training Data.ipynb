{
 "cells": [
  {
   "cell_type": "markdown",
   "metadata": {},
   "source": [
    "# Creating a data set for model training from 2021 season data"
   ]
  },
  {
   "cell_type": "code",
   "execution_count": 256,
   "metadata": {},
   "outputs": [],
   "source": [
    "#Imports\n",
    "import statsapi\n",
    "import datetime \n",
    "import pandas as pd\n",
    "import json"
   ]
  },
  {
   "cell_type": "code",
   "execution_count": 257,
   "metadata": {},
   "outputs": [],
   "source": [
    "#Getting start date and end date of a season\n",
    "def season_start_end(year):\n",
    "    season_info = statsapi.get(\"seasons\", {\"sportId\": 1, \"season\": year})\n",
    "    season_start = season_info['seasons'][0]['regularSeasonStartDate']\n",
    "    season_end = season_info['seasons'][0]['regularSeasonEndDate']\n",
    "    return [season_start, season_end]"
   ]
  },
  {
   "cell_type": "code",
   "execution_count": 258,
   "metadata": {},
   "outputs": [],
   "source": [
    "start_end_2021 = season_start_end(2021)\n",
    "season_start = start_end_2021[0]\n",
    "season_end = start_end_2021[1]"
   ]
  },
  {
   "cell_type": "code",
   "execution_count": 259,
   "metadata": {},
   "outputs": [],
   "source": [
    "#Adding 35 days to the season start, when I want to start collecting data\n",
    "season_start_offset = (datetime.datetime.strptime(season_start, \"%Y-%m-%d\") + datetime.timedelta(days=35)).strftime('%Y-%m-%d')"
   ]
  },
  {
   "cell_type": "code",
   "execution_count": 260,
   "metadata": {},
   "outputs": [],
   "source": [
    "#Geting all season matchup outcomes\n",
    "def season_match_outcomes(season_start, season_end):\n",
    "    dict_list = []\n",
    "    for i in statsapi.schedule(start_date=season_start, end_date=season_end):\n",
    "        match_dict = {}\n",
    "        try:\n",
    "            match_dict['game_id'] = i['game_id']\n",
    "            match_dict['win'] = i['winning_team']\n",
    "            match_dict['loss'] = i['losing_team']\n",
    "            dict_list.append(match_dict)\n",
    "        except: pass\n",
    "    return dict_list"
   ]
  },
  {
   "cell_type": "code",
   "execution_count": 261,
   "metadata": {},
   "outputs": [],
   "source": [
    "#Setting variable to the output for season match outcomes\n",
    "all_matches = season_match_outcomes(season_start_offset, season_end)"
   ]
  },
  {
   "cell_type": "code",
   "execution_count": 262,
   "metadata": {},
   "outputs": [],
   "source": [
    "#Creating a list of all game ids for period in 2021 season\n",
    "game_ids = [i['game_id'] for i in all_matches]"
   ]
  },
  {
   "cell_type": "code",
   "execution_count": null,
   "metadata": {},
   "outputs": [],
   "source": [
    "game_info = statsapi.boxscore_data(632520, timecode=None)\n",
    "game_info"
   ]
  },
  {
   "cell_type": "code",
   "execution_count": 10,
   "metadata": {},
   "outputs": [],
   "source": [
    "#Takes a long time to run (16min) - There was a better way I am sure, a df would have been better, but using this for now\n",
    "#Commenting out to not run again\n",
    "#dict_list = []\n",
    "#for i in game_ids:\n",
    "#    game_info = statsapi.boxscore_data(i, timecode=None)\n",
    "#    roster_dict = {}\n",
    "#    roster_dict['game_id'] = int(i)\n",
    "#    roster_dict['home_roster'] = game_info['home']['battingOrder'] + game_info['home']['bullpen']\n",
    "#    roster_dict['away_roster'] = game_info['away']['battingOrder'] + game_info['away']['bullpen']\n",
    "#    dict_list.append(roster_dict)\n",
    "#dict_list"
   ]
  },
  {
   "cell_type": "code",
   "execution_count": 11,
   "metadata": {},
   "outputs": [],
   "source": [
    "#Creating json from above dict_list\n",
    "#Commenting out to not run again\n",
    "#with open('roster_dict', 'w') as fout:\n",
    "#    json.dump(dict_list, fout)"
   ]
  },
  {
   "cell_type": "markdown",
   "metadata": {},
   "source": [
    "##### Adding date to this, but keeping separate file"
   ]
  },
  {
   "cell_type": "code",
   "execution_count": null,
   "metadata": {},
   "outputs": [],
   "source": [
    "#Takes a long time to run (16min) - There was a better way I am sure, a df would have been better, but using this for now\n",
    "#Commenting out to not run again\n",
    "#dict_list = []\n",
    "#for i in game_ids:\n",
    "#    game_info = statsapi.boxscore_data(i, timecode=None)\n",
    "#    roster_dict = {}\n",
    "#    roster_dict['game_id'] = int(i)\n",
    "#    roster_dict['date'] = game_info['gameId'][0:10].replace('/', '-')\n",
    "#    roster_dict['home_roster'] = game_info['home']['battingOrder'] + game_info['home']['bullpen']\n",
    "#    roster_dict['away_roster'] = game_info['away']['battingOrder'] + game_info['away']['bullpen']\n",
    "#    dict_list.append(roster_dict)\n",
    "#dict_list"
   ]
  },
  {
   "cell_type": "code",
   "execution_count": 265,
   "metadata": {},
   "outputs": [],
   "source": [
    "#Creating json from above dict_list\n",
    "#Commenting out to not run again\n",
    "#with open('roster_date_dict', 'w') as fout:\n",
    "#    json.dump(dict_list, fout)"
   ]
  },
  {
   "cell_type": "markdown",
   "metadata": {},
   "source": [
    "## Creating Player Stats function\n",
    "\n",
    "###### Work in progress, not quite done yet"
   ]
  },
  {
   "cell_type": "code",
   "execution_count": null,
   "metadata": {},
   "outputs": [],
   "source": [
    "#Creation of this function further down -  need to use it in the stats function\n",
    "\n",
    "#Function to sum values in two dictionaries\n",
    "def add_dicts(d1, d2):\n",
    "    d3 = dict(d1)\n",
    "    d3.update(d2)\n",
    "    try:\n",
    "        for i, j in d1.items():\n",
    "\n",
    "            for x, y in d2.items():\n",
    "\n",
    "                if (i == x):\n",
    "\n",
    "                    d3[i]=(j+y)\n",
    "    except: pass\n",
    "    return d3"
   ]
  },
  {
   "cell_type": "markdown",
   "metadata": {},
   "source": [
    "##### Keeping for reference for now\n",
    "def player_stats(id,start_date, end_date, season):\n",
    "    player_info = statsapi.get(\"people\", {\"personIds\": id, \"hydrate\": f\"stats(group=[hitting,fielding,pitching],type=[byDateRange],\\\n",
    "    startDate={start_date},endDate={end_date},season={season})\"})\n",
    "    #dict where I will add all the collected stats\n",
    "    stat_dict = {}\n",
    "    #Temporary storage for fielding dicts for all positions\n",
    "    fielding_list = []\n",
    "    #List to check if the stats for a fielding position have already been collected - as they are listed more than once\n",
    "    pos_codes = []\n",
    "    try:\n",
    "        player_hitting_stats = player_info['people'][0]['stats'][0]['splits'][0]['stat']\n",
    "        stat_dict['hitting'] = player_hitting_stats\n",
    "    except: pass\n",
    "    try: \n",
    "        for i in player_info['people'][0]['stats'][1]['splits']:\n",
    "            if player_info['people'][0]['stats'][1]['splits'][i]['stat']['position']['code'].isin(pos_codes):\n",
    "                pass\n",
    "            else:\n",
    "                pos_codes.append(player_info['people'][0]['stats'][1]['splits'][i]['stat']['position']['code'])\n",
    "                fielding_list.append(player_info['people'][0]['stats'][i]['splits'][0]['stat']) \n",
    "        all_fielding = {}\n",
    "        for i in fielding_list:\n",
    "            all_fielding.update(i)\n",
    "\n",
    "            stat_dict['fielding'] = 1 #Placeholder\n",
    "    except: pass\n",
    "    try:\n",
    "        player_pitching_stats = player_info['people'][0]['stats'][2]['splits'][0]['stat']\n",
    "        stat_dict['pitching'] = player_pitching_stats\n",
    "    except:pass\n",
    "    return stat_dict"
   ]
  },
  {
   "cell_type": "code",
   "execution_count": 253,
   "metadata": {},
   "outputs": [],
   "source": [
    "#Create function to get player stats\n",
    "#Inputs are the id, start date and end date\n",
    "\n",
    "#Currently not getting all the fielding stats, as there are more than one set of them - based on the pos they play - fix in progress\n",
    "\n",
    "#Updates:\n",
    "# Need to make 3 API calls, one for hitting, fielding, and pitching.  Might need to add an if statement for pitching/fielding based on position, we will see\n",
    "# use the add_dicts function to sum all the fielding stats for each position played, as they are split\n",
    "# Store them all in an organized dictionary for later use\n",
    "\n",
    "def player_stats(id,start_date, end_date, season):\n",
    "\n",
    "    #Getting player stats - separately because the API switches their order when fetched at the same time \n",
    "    hitting_stats = statsapi.get(\"people\", {\"personIds\": id, \"hydrate\": f\"stats(group=[hitting],type=[byDateRange],\\\n",
    "    startDate={start_date},endDate={end_date},season={season})\"})\n",
    "    pitching_stats = statsapi.get(\"people\", {\"personIds\": id, \"hydrate\": f\"stats(group=[pitching],type=[byDateRange],\\\n",
    "    startDate={start_date},endDate={end_date},season={season})\"})\n",
    "    fielding_stats = statsapi.get(\"people\", {\"personIds\": id, \"hydrate\": f\"stats(group=[fielding],type=[byDateRange],\\\n",
    "    startDate={start_date},endDate={end_date},season={season})\"})\n",
    "\n",
    "    #dict where I will add all the collected stats\n",
    "    stat_dict = {}\n",
    "\n",
    "    #Temporary storage for fielding dicts for all positions\n",
    "    fielding_list = []\n",
    "\n",
    "    #List to check if the stats for a fielding position have already been collected - as they are listed more than once\n",
    "    pos_codes = []\n",
    "\n",
    "    try:\n",
    "        player_hitting_stats = hitting_stats['people'][0]['stats'][0]['splits'][0]['stat']\n",
    "        stat_dict['hitting'] = player_hitting_stats\n",
    "    except: pass\n",
    "    \n",
    "    try:\n",
    "        player_pitching_stats = pitching_stats['people'][0]['stats'][0]['splits'][-1]['stat']\n",
    "        stat_dict['pitching'] = player_pitching_stats\n",
    "    except: pass\n",
    "\n",
    "    try:\n",
    "        for i in range(len(fielding_stats['people'][0]['stats'][0]['splits'])):\n",
    "            if fielding_stats['people'][0]['stats'][0]['splits'][i]['stat']['position']['code'] in pos_codes:\n",
    "                pass\n",
    "            else:\n",
    "                pos_codes.append(fielding_stats['people'][0]['stats'][0]['splits'][i]['stat']['position']['code'])\n",
    "                fielding_list.append(fielding_stats['people'][0]['stats'][0]['splits'][i]['stat']) \n",
    "                \n",
    "        all_fielding = {}\n",
    "\n",
    "        for i in range(len(fielding_list)):\n",
    "            all_fielding = add_dicts(all_fielding, fielding_list[i])\n",
    "        stat_dict['fielding'] = all_fielding\n",
    "        \n",
    "        \n",
    "    except:pass\n",
    "    return stat_dict"
   ]
  },
  {
   "cell_type": "code",
   "execution_count": null,
   "metadata": {},
   "outputs": [],
   "source": [
    "#Testing function for 2022\n",
    "player_stats(518934,'2022-04-05','2022-08-12', 2022)"
   ]
  },
  {
   "cell_type": "code",
   "execution_count": null,
   "metadata": {},
   "outputs": [],
   "source": [
    "#Testing player stats for a pitcher - Works, but incorrect pitching results, need the last entry, [-1]\n",
    "player_stats(593974,'2021-04-01', '2021-05-06', 2021)"
   ]
  },
  {
   "cell_type": "markdown",
   "metadata": {},
   "source": [
    "#### Various tests and examples trying to figure out how to get the above function working"
   ]
  },
  {
   "cell_type": "code",
   "execution_count": null,
   "metadata": {},
   "outputs": [],
   "source": [
    "#Checking length of fielding_stats\n",
    "fielding_stats = statsapi.get(\"people\", {\"personIds\": 518934, \"hydrate\": \"stats(group=[fielding],type=[byDateRange],\\\n",
    "    startDate=2022-04-05,endDate=2022-08-12,season=2022)\"})\n",
    "len(fielding_stats['people'][0]['stats'][0]['splits'])"
   ]
  },
  {
   "cell_type": "code",
   "execution_count": null,
   "metadata": {},
   "outputs": [],
   "source": [
    "#Verifying location of position code for looping\n",
    "statsapi.get(\"people\", {\"personIds\": 518934, \"hydrate\": \"stats(group=[hitting,fielding,pitching],type=[byDateRange],\\\n",
    "    startDate=2022-04-05,endDate=2022-08-12,season=2022)\"})['people'][0]['stats'][0]['splits'][0]['stat']['position']['code']\n"
   ]
  },
  {
   "cell_type": "code",
   "execution_count": null,
   "metadata": {},
   "outputs": [],
   "source": [
    "#Verifying position of one player's single position fielding stats\n",
    "statsapi.get(\"people\", {\"personIds\": 518934, \"hydrate\": \"stats(group=[hitting,fielding,pitching],type=[byDateRange],\\\n",
    "    startDate=2022-04-05,endDate=2022-08-12,season=2022)\"})['people'][0]['stats'][1]['splits'][0]['stat']"
   ]
  },
  {
   "cell_type": "code",
   "execution_count": null,
   "metadata": {},
   "outputs": [],
   "source": [
    "#Testing to see if I can combine fielding stats into a dict\n",
    "#It works except for the 'position' dictionary, which I do not need the info from\n",
    "#Also combines fielding as a string, but I can fix that later, if I decide to use that stat (thinking I will not for now)\n",
    "d1 = statsapi.get(\"people\", {\"personIds\": 518934, \"hydrate\": \"stats(group=[fielding],type=[byDateRange],\\\n",
    "    startDate=2022-04-05,endDate=2022-08-12,season=2022)\"})['people'][0]['stats'][0]['splits'][0]['stat']\n",
    "\n",
    "d2 = statsapi.get(\"people\", {\"personIds\": 518934, \"hydrate\": \"stats(group=[fielding],type=[byDateRange],\\\n",
    "    startDate=2022-04-05,endDate=2022-08-12,season=2022)\"})['people'][0]['stats'][0]['splits'][1]['stat']\n",
    "\n",
    "d3 = dict(d1) # don't do `d3=d1`, you need to make a copy\n",
    "\n",
    "d3.update(d2) \n",
    "try:\n",
    "    for i, j in d1.items():\n",
    "\n",
    "        for x, y in d2.items():\n",
    "\n",
    "            if i == x:\n",
    "\n",
    "                d3[i]=(j+y)\n",
    "except: pass\n",
    "print(d3)"
   ]
  },
  {
   "cell_type": "code",
   "execution_count": null,
   "metadata": {},
   "outputs": [],
   "source": [
    "#Testing for three dictionaries\n",
    "d1 = statsapi.get(\"people\", {\"personIds\": 518934, \"hydrate\": \"stats(group=[fielding],type=[byDateRange],\\\n",
    "    startDate=2022-04-05,endDate=2022-08-12,season=2022)\"})['people'][0]['stats'][0]['splits'][0]['stat']\n",
    "\n",
    "d2 = statsapi.get(\"people\", {\"personIds\": 518934, \"hydrate\": \"stats(group=[fielding],type=[byDateRange],\\\n",
    "    startDate=2022-04-05,endDate=2022-08-12,season=2022)\"})['people'][0]['stats'][0]['splits'][1]['stat']\n",
    "\n",
    "d0 = statsapi.get(\"people\", {\"personIds\": 518934, \"hydrate\": \"stats(group=[fielding],type=[byDateRange],\\\n",
    "    startDate=2022-04-05,endDate=2022-08-12,season=2022)\"})['people'][0]['stats'][0]['splits'][2]['stat']\n",
    "\n",
    "d3 = dict(d1) # don't do `d3=d1`, you need to make a copy\n",
    "\n",
    "d3.update(d2) \n",
    "try:\n",
    "    for i, j in d1.items():\n",
    "\n",
    "        for x, y in d2.items():\n",
    "\n",
    "                if (i == x):\n",
    "\n",
    "                    d3[i]=(j+y)\n",
    "except: pass\n",
    "d4 = dict(d3)\n",
    "d4.update(d0)\n",
    "try:\n",
    "    for i, j in d3.items():\n",
    "\n",
    "        for x, y in d0.items():\n",
    "\n",
    "                if (i == x):\n",
    "\n",
    "                    d4[i]=(j+y)\n",
    "except: pass\n",
    "print(d4)"
   ]
  },
  {
   "cell_type": "code",
   "execution_count": 87,
   "metadata": {},
   "outputs": [],
   "source": [
    "#Making a function to shorten the code - will use this in the stats function to get all the relevant fielding stats added together\n",
    "def add_dicts(d1, d2):\n",
    "    d3 = dict(d1)\n",
    "    d3.update(d2)\n",
    "    try:\n",
    "        for i, j in d1.items():\n",
    "\n",
    "            for x, y in d2.items():\n",
    "\n",
    "                if (i == x):\n",
    "\n",
    "                    d3[i]=(j+y)\n",
    "    except: pass\n",
    "    return d3"
   ]
  },
  {
   "cell_type": "code",
   "execution_count": null,
   "metadata": {},
   "outputs": [],
   "source": [
    "#Testing add_dicts starting with an empty dictionary\n",
    "empty_dict = {}\n",
    "dict_list = [d1,d0,d2]\n",
    "for i in range(len(dict_list)):\n",
    "    empty_dict = add_dicts(empty_dict,dict_list[i])\n",
    "empty_dict"
   ]
  },
  {
   "cell_type": "code",
   "execution_count": null,
   "metadata": {},
   "outputs": [],
   "source": [
    "#Getting the if statement to work inside the for loop of the player_stats function and \n",
    "#creating a list of unique fielding stats for a player (they duplicated for some reason)\n",
    "temp_list = []\n",
    "temp_list2 = []\n",
    "fielding_stats = statsapi.get(\"people\", {\"personIds\": 518934, \"hydrate\": \"stats(group=[fielding],type=[byDateRange],\\\n",
    "    startDate=2022-04-05,endDate=2022-08-12,season=2022)\"})\n",
    "for i in range(len(fielding_stats['people'][0]['stats'][0]['splits'])):\n",
    "    if fielding_stats['people'][0]['stats'][0]['splits'][i]['stat']['position']['code'] in temp_list:\n",
    "        pass\n",
    "    else:\n",
    "        temp_list.append(fielding_stats['people'][0]['stats'][0]['splits'][i]['stat']['position']['code'])\n",
    "        temp_list2.append(fielding_stats['people'][0]['stats'][0]['splits'][i]['stat']) \n",
    "temp_list2"
   ]
  },
  {
   "cell_type": "code",
   "execution_count": null,
   "metadata": {},
   "outputs": [],
   "source": [
    "#Getting add_dicts function to work to combine all fielding stats into one dictionary - strings will be messed up\n",
    "dict_A = {}\n",
    "for i in range(len(temp_list2)):\n",
    "    dict_A =  add_dicts(dict_A, temp_list2[i])\n",
    "dict_A"
   ]
  },
  {
   "cell_type": "markdown",
   "metadata": {},
   "source": [
    "## Pulling some stats for a team roster/matchup"
   ]
  },
  {
   "cell_type": "code",
   "execution_count": null,
   "metadata": {},
   "outputs": [],
   "source": [
    "#reading json\n",
    "f = open('roster_dict')\n",
    "data = json.load(f)"
   ]
  },
  {
   "cell_type": "markdown",
   "metadata": {},
   "source": [
    "#### Need to get the date of the game for the player_stats function to work properly - this date will be the end date, with the start of season offset date as the start"
   ]
  },
  {
   "cell_type": "code",
   "execution_count": null,
   "metadata": {},
   "outputs": [],
   "source": [
    "#Looking at the first matchup \n",
    "\n",
    "#Getting relevant data from dictionary\n",
    "matchup_one = data[0]\n",
    "game_id = matchup_one['game_id']\n",
    "home_roster = matchup_one['home_roster']\n",
    "away_roster = matchup_one['away_roster']\n",
    "date = statsapi.boxscore_data(game_id, timecode=None)['gameId'][0:10].replace('/', '-')\n",
    "\n",
    "#Pulling stats for each player - had to look up date manually for now\n",
    "\n",
    "for i in home_roster:\n",
    "    print(player_stats(i,'2021-04-01', date, 2021))\n",
    "\n",
    "#Adding stats to a df - to be updated\n",
    "df = pd.DataFrame()"
   ]
  },
  {
   "cell_type": "markdown",
   "metadata": {},
   "source": [
    "### Troubleshooting again for player_stats, with pitching specifically\n",
    "###### Running into issues with pitchers being on the roster but not pitching for the team yet in the season"
   ]
  },
  {
   "cell_type": "code",
   "execution_count": null,
   "metadata": {},
   "outputs": [],
   "source": [
    "#Looking at how to get the total stats for a pitcher in the season so far (As they are often traded and a separate entry is created for each team)\n",
    "pitching_stats = statsapi.get(\"people\", {\"personIds\": 593974, \"hydrate\": f\"stats(group=[pitching],type=[byDateRange],\\\n",
    "    startDate=2021-04-01,endDate=2021-05-06,season=2021)\"})\n",
    "pitching_stats['people'][0]['stats'][0]['splits'][-1]['stat']"
   ]
  },
  {
   "cell_type": "code",
   "execution_count": null,
   "metadata": {},
   "outputs": [],
   "source": [
    "#Looking for Gerrit Cole's stats with function - was returning {} before I fixed the function now\n",
    "player_stats(543037,'2021-04-01', '2021-05-06', 2021)"
   ]
  },
  {
   "cell_type": "code",
   "execution_count": null,
   "metadata": {},
   "outputs": [],
   "source": [
    "#Looking for Gerrit Cole's stats straight from the API - works fine\n",
    "statsapi.get(\"people\", {\"personIds\": 543037, \"hydrate\": f\"stats(group=[pitching],type=[byDateRange],\\\n",
    "    startDate=2021-04-01,endDate=2021-05-06,season=2021)\"})['people'][0]['stats'][0]['splits'][-1]['stat']"
   ]
  },
  {
   "cell_type": "code",
   "execution_count": null,
   "metadata": {},
   "outputs": [],
   "source": []
  }
 ],
 "metadata": {
  "kernelspec": {
   "display_name": "Python 3.9.8 64-bit",
   "language": "python",
   "name": "python3"
  },
  "language_info": {
   "codemirror_mode": {
    "name": "ipython",
    "version": 3
   },
   "file_extension": ".py",
   "mimetype": "text/x-python",
   "name": "python",
   "nbconvert_exporter": "python",
   "pygments_lexer": "ipython3",
   "version": "3.9.8"
  },
  "orig_nbformat": 4,
  "vscode": {
   "interpreter": {
    "hash": "f450c7eb4f838dc2b8e8e4724af9f52f1f78adb4aba90f54ac373406a2721386"
   }
  }
 },
 "nbformat": 4,
 "nbformat_minor": 2
}
