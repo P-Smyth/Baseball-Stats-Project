{
 "cells": [
  {
   "cell_type": "markdown",
   "metadata": {},
   "source": [
    "# Creating a data set for model training from 2021 season data"
   ]
  },
  {
   "cell_type": "code",
   "execution_count": null,
   "metadata": {},
   "outputs": [],
   "source": [
    "#Imports\n",
    "import statsapi\n",
    "import datetime \n",
    "import pandas as pd\n",
    "import json"
   ]
  },
  {
   "cell_type": "code",
   "execution_count": null,
   "metadata": {},
   "outputs": [],
   "source": [
    "#Getting start date and end date of a season\n",
    "def season_start_end(year):\n",
    "    season_info = statsapi.get(\"seasons\", {\"sportId\": 1, \"season\": year})\n",
    "    season_start = season_info['seasons'][0]['regularSeasonStartDate']\n",
    "    season_end = season_info['seasons'][0]['regularSeasonEndDate']\n",
    "    return [season_start, season_end]"
   ]
  },
  {
   "cell_type": "code",
   "execution_count": null,
   "metadata": {},
   "outputs": [],
   "source": [
    "start_end_2021 = season_start_end(2021)\n",
    "season_start = start_end_2021[0]\n",
    "season_end = start_end_2021[1]"
   ]
  },
  {
   "cell_type": "code",
   "execution_count": null,
   "metadata": {},
   "outputs": [],
   "source": [
    "#Adding 35 days to the season start, when I want to start collecting data\n",
    "season_start_offset = (datetime.datetime.strptime(season_start, \"%Y-%m-%d\") + datetime.timedelta(days=35)).strftime('%Y-%m-%d')"
   ]
  },
  {
   "cell_type": "code",
   "execution_count": null,
   "metadata": {},
   "outputs": [],
   "source": [
    "#Geting all season matchup outcomes\n",
    "def season_match_outcomes(season_start, season_end):\n",
    "    dict_list = []\n",
    "    for i in statsapi.schedule(start_date=season_start, end_date=season_end):\n",
    "        match_dict = {}\n",
    "        try:\n",
    "            match_dict['game_id'] = i['game_id']\n",
    "            match_dict['win'] = i['winning_team']\n",
    "            match_dict['loss'] = i['losing_team']\n",
    "            dict_list.append(match_dict)\n",
    "        except: pass\n",
    "    return dict_list"
   ]
  },
  {
   "cell_type": "code",
   "execution_count": null,
   "metadata": {},
   "outputs": [],
   "source": [
    "#Setting variable to the output for season match outcomes\n",
    "all_matches = season_match_outcomes(season_start_offset, season_end)"
   ]
  },
  {
   "cell_type": "code",
   "execution_count": null,
   "metadata": {},
   "outputs": [],
   "source": [
    "#Creating a list of all game ids for period in 2021 season\n",
    "game_ids = [i['game_id'] for i in all_matches]"
   ]
  },
  {
   "cell_type": "code",
   "execution_count": null,
   "metadata": {},
   "outputs": [],
   "source": [
    "game_info = statsapi.boxscore_data(632520, timecode=None)\n",
    "game_info"
   ]
  },
  {
   "cell_type": "markdown",
   "metadata": {},
   "source": [
    "## Creating json of all the 2021 matchups and rosters"
   ]
  },
  {
   "cell_type": "code",
   "execution_count": null,
   "metadata": {},
   "outputs": [],
   "source": [
    "#Takes a long time to run (16min) - There was a better way I am sure, a df would have been better, but using this for now\n",
    "#Commenting out to not run again\n",
    "#dict_list = []\n",
    "#for i in game_ids:\n",
    "#    game_info = statsapi.boxscore_data(i, timecode=None)\n",
    "#    roster_dict = {}\n",
    "#    roster_dict['game_id'] = int(i)\n",
    "#    roster_dict['home_roster'] = game_info['home']['battingOrder'] + game_info['home']['bullpen']\n",
    "#    roster_dict['away_roster'] = game_info['away']['battingOrder'] + game_info['away']['bullpen']\n",
    "#    dict_list.append(roster_dict)\n",
    "#dict_list"
   ]
  },
  {
   "cell_type": "code",
   "execution_count": null,
   "metadata": {},
   "outputs": [],
   "source": [
    "#Creating json from above dict_list\n",
    "#Commenting out to not run again\n",
    "#with open('roster_dict', 'w') as fout:\n",
    "#    json.dump(dict_list, fout)"
   ]
  },
  {
   "cell_type": "markdown",
   "metadata": {},
   "source": [
    "##### Adding date to data in a new json file\n",
    "###### Remembered a bit later I needed the date to use my stats function "
   ]
  },
  {
   "cell_type": "code",
   "execution_count": null,
   "metadata": {},
   "outputs": [],
   "source": [
    "#Takes a long time to run (16min) - There was a better way I am sure, a df would have been better, but using this for now\n",
    "#Commenting out to not run again\n",
    "#dict_list = []\n",
    "#for i in game_ids:\n",
    "#    game_info = statsapi.boxscore_data(i, timecode=None)\n",
    "#    roster_dict = {}\n",
    "#    roster_dict['game_id'] = int(i)\n",
    "#    roster_dict['date'] = game_info['gameId'][0:10].replace('/', '-')\n",
    "#    roster_dict['home_roster'] = game_info['home']['battingOrder'] + game_info['home']['bullpen']\n",
    "#    roster_dict['away_roster'] = game_info['away']['battingOrder'] + game_info['away']['bullpen']\n",
    "#    dict_list.append(roster_dict)\n",
    "#dict_list"
   ]
  },
  {
   "cell_type": "code",
   "execution_count": null,
   "metadata": {},
   "outputs": [],
   "source": [
    "#Creating json from above dict_list\n",
    "#Commenting out to not run again\n",
    "#with open('roster_date_dict', 'w') as fout:\n",
    "#    json.dump(dict_list, fout)"
   ]
  },
  {
   "cell_type": "markdown",
   "metadata": {},
   "source": [
    "## Creating Player Stats function"
   ]
  },
  {
   "cell_type": "code",
   "execution_count": null,
   "metadata": {},
   "outputs": [],
   "source": [
    "#Creation of this function further down -  need to use it in the stats function\n",
    "\n",
    "#Function to sum values in two dictionaries\n",
    "def add_dicts(d1, d2):\n",
    "    d3 = dict(d1)\n",
    "    d3.update(d2)\n",
    "    try:\n",
    "        for i, j in d1.items():\n",
    "\n",
    "            for x, y in d2.items():\n",
    "\n",
    "                if (i == x):\n",
    "\n",
    "                    d3[i]=(j+y)\n",
    "    except: pass\n",
    "    return d3"
   ]
  },
  {
   "cell_type": "markdown",
   "metadata": {},
   "source": [
    "##### Keeping for reference for now\n",
    "def player_stats(id,start_date, end_date, season):\n",
    "    player_info = statsapi.get(\"people\", {\"personIds\": id, \"hydrate\": f\"stats(group=[hitting,fielding,pitching],type=[byDateRange],\\\n",
    "    startDate={start_date},endDate={end_date},season={season})\"})\n",
    "    #dict where I will add all the collected stats\n",
    "    stat_dict = {}\n",
    "    #Temporary storage for fielding dicts for all positions\n",
    "    fielding_list = []\n",
    "    #List to check if the stats for a fielding position have already been collected - as they are listed more than once\n",
    "    pos_codes = []\n",
    "    try:\n",
    "        player_hitting_stats = player_info['people'][0]['stats'][0]['splits'][0]['stat']\n",
    "        stat_dict['hitting'] = player_hitting_stats\n",
    "    except: pass\n",
    "    try: \n",
    "        for i in player_info['people'][0]['stats'][1]['splits']:\n",
    "            if player_info['people'][0]['stats'][1]['splits'][i]['stat']['position']['code'].isin(pos_codes):\n",
    "                pass\n",
    "            else:\n",
    "                pos_codes.append(player_info['people'][0]['stats'][1]['splits'][i]['stat']['position']['code'])\n",
    "                fielding_list.append(player_info['people'][0]['stats'][i]['splits'][0]['stat']) \n",
    "        all_fielding = {}\n",
    "        for i in fielding_list:\n",
    "            all_fielding.update(i)\n",
    "\n",
    "            stat_dict['fielding'] = 1 #Placeholder\n",
    "    except: pass\n",
    "    try:\n",
    "        player_pitching_stats = player_info['people'][0]['stats'][2]['splits'][0]['stat']\n",
    "        stat_dict['pitching'] = player_pitching_stats\n",
    "    except:pass\n",
    "    return stat_dict"
   ]
  },
  {
   "cell_type": "code",
   "execution_count": null,
   "metadata": {},
   "outputs": [],
   "source": [
    "#Create function to get player stats\n",
    "#Inputs are the id, start date and end date\n",
    "\n",
    "#Currently not getting all the fielding stats, as there are more than one set of them - based on the pos they play - fix in progress\n",
    "\n",
    "\n",
    "def player_stats(id,start_date, end_date, season):\n",
    "\n",
    "    #Getting player stats - separately because the API switches their order when fetched at the same time \n",
    "    hitting_stats = statsapi.get(\"people\", {\"personIds\": id, \"hydrate\": f\"stats(group=[hitting],type=[byDateRange],\\\n",
    "    startDate={start_date},endDate={end_date},season={season})\"})\n",
    "    pitching_stats = statsapi.get(\"people\", {\"personIds\": id, \"hydrate\": f\"stats(group=[pitching],type=[byDateRange],\\\n",
    "    startDate={start_date},endDate={end_date},season={season})\"})\n",
    "    fielding_stats = statsapi.get(\"people\", {\"personIds\": id, \"hydrate\": f\"stats(group=[fielding],type=[byDateRange],\\\n",
    "    startDate={start_date},endDate={end_date},season={season})\"})\n",
    "\n",
    "    #dict where I will add all the collected stats\n",
    "    stat_dict = {}\n",
    "\n",
    "    #Temporary storage for fielding dicts for all positions\n",
    "    fielding_list = []\n",
    "\n",
    "    #List to check if the stats for a fielding position have already been collected - as they are listed more than once\n",
    "    pos_codes = []\n",
    "\n",
    "    try:\n",
    "        player_hitting_stats = hitting_stats['people'][0]['stats'][0]['splits'][0]['stat']\n",
    "        stat_dict['hitting'] = player_hitting_stats\n",
    "    except: pass\n",
    "    \n",
    "    try:\n",
    "        player_pitching_stats = pitching_stats['people'][0]['stats'][0]['splits'][-1]['stat']\n",
    "        stat_dict['pitching'] = player_pitching_stats\n",
    "    except: pass\n",
    "\n",
    "    try:\n",
    "        for i in range(len(fielding_stats['people'][0]['stats'][0]['splits'])):\n",
    "            if fielding_stats['people'][0]['stats'][0]['splits'][i]['stat']['position']['code'] in pos_codes:\n",
    "                pass\n",
    "            else:\n",
    "                pos_codes.append(fielding_stats['people'][0]['stats'][0]['splits'][i]['stat']['position']['code'])\n",
    "                fielding_list.append(fielding_stats['people'][0]['stats'][0]['splits'][i]['stat']) \n",
    "                \n",
    "        all_fielding = {}\n",
    "\n",
    "        for i in range(len(fielding_list)):\n",
    "            all_fielding = add_dicts(all_fielding, fielding_list[i])\n",
    "        stat_dict['fielding'] = all_fielding\n",
    "        \n",
    "        \n",
    "    except:pass\n",
    "    return stat_dict"
   ]
  },
  {
   "cell_type": "code",
   "execution_count": null,
   "metadata": {},
   "outputs": [],
   "source": [
    "#Testing function for 2022\n",
    "player_stats(518934,'2022-04-05','2022-08-12', 2022)"
   ]
  },
  {
   "cell_type": "code",
   "execution_count": null,
   "metadata": {},
   "outputs": [],
   "source": [
    "#Testing player stats for a pitcher - Found I needed to use [-1] in my function to get the cumulative pitching stats\n",
    "player_stats(593974,'2021-04-01', '2021-05-06', 2021)"
   ]
  },
  {
   "cell_type": "markdown",
   "metadata": {},
   "source": [
    "#### Various tests and examples trying to figure out how to get the above function working"
   ]
  },
  {
   "cell_type": "code",
   "execution_count": null,
   "metadata": {},
   "outputs": [],
   "source": [
    "#Checking length of fielding_stats\n",
    "fielding_stats = statsapi.get(\"people\", {\"personIds\": 518934, \"hydrate\": \"stats(group=[fielding],type=[byDateRange],\\\n",
    "    startDate=2022-04-05,endDate=2022-08-12,season=2022)\"})\n",
    "len(fielding_stats['people'][0]['stats'][0]['splits'])"
   ]
  },
  {
   "cell_type": "code",
   "execution_count": null,
   "metadata": {},
   "outputs": [],
   "source": [
    "#Verifying location of position code for looping\n",
    "statsapi.get(\"people\", {\"personIds\": 518934, \"hydrate\": \"stats(group=[fielding],type=[byDateRange],\\\n",
    "    startDate=2022-04-05,endDate=2022-08-12,season=2022)\"})['people'][0]['stats'][0]['splits'][0]['stat']['position']['code']"
   ]
  },
  {
   "cell_type": "code",
   "execution_count": null,
   "metadata": {},
   "outputs": [],
   "source": [
    "#Verifying position of one player's single position fielding stats\n",
    "statsapi.get(\"people\", {\"personIds\": 518934, \"hydrate\": \"stats(group=[hitting,fielding,pitching],type=[byDateRange],\\\n",
    "    startDate=2022-04-05,endDate=2022-08-12,season=2022)\"})['people'][0]['stats'][1]['splits'][0]['stat']"
   ]
  },
  {
   "cell_type": "code",
   "execution_count": null,
   "metadata": {},
   "outputs": [],
   "source": [
    "#Looking at stats for Javier Baez who switched teams mid season.  Need to use abbreviation == All to get his stats, and combine them.\n",
    "statsapi.get(\"people\", {\"personIds\": 595879, \"hydrate\": \"stats(group=[hitting,pitching,fielding],type=[byDateRange],\\\n",
    "    startDate=2021-04-05,endDate=2021-10-01,season=2021)\"})"
   ]
  },
  {
   "cell_type": "code",
   "execution_count": null,
   "metadata": {},
   "outputs": [],
   "source": [
    "#Testing for Javier Baez - Only returning first entry of hitting \n",
    "player_stats(595879, '2021-04-05', '2021-10-01', 2021)"
   ]
  },
  {
   "cell_type": "markdown",
   "metadata": {},
   "source": [
    "## Trying to add dictionaries together to get total stats"
   ]
  },
  {
   "cell_type": "code",
   "execution_count": null,
   "metadata": {},
   "outputs": [],
   "source": [
    "#Testing to see if I can combine fielding stats into a dict\n",
    "#It works except for the 'position' dictionary, which I do not need the info from\n",
    "#Also combines fielding as a string, but I can fix that later, if I decide to use that stat (thinking I will not for now)\n",
    "d1 = statsapi.get(\"people\", {\"personIds\": 518934, \"hydrate\": \"stats(group=[fielding],type=[byDateRange],\\\n",
    "    startDate=2022-04-05,endDate=2022-08-12,season=2022)\"})['people'][0]['stats'][0]['splits'][0]['stat']\n",
    "\n",
    "d2 = statsapi.get(\"people\", {\"personIds\": 518934, \"hydrate\": \"stats(group=[fielding],type=[byDateRange],\\\n",
    "    startDate=2022-04-05,endDate=2022-08-12,season=2022)\"})['people'][0]['stats'][0]['splits'][1]['stat']\n",
    "\n",
    "d3 = dict(d1) # don't do `d3=d1`, you need to make a copy\n",
    "\n",
    "d3.update(d2) \n",
    "try:\n",
    "    for i, j in d1.items():\n",
    "\n",
    "        for x, y in d2.items():\n",
    "\n",
    "            if i == x:\n",
    "\n",
    "                d3[i]=(j+y)\n",
    "except: pass\n",
    "print(d3)"
   ]
  },
  {
   "cell_type": "code",
   "execution_count": null,
   "metadata": {},
   "outputs": [],
   "source": [
    "#Testing for three dictionaries\n",
    "d1 = statsapi.get(\"people\", {\"personIds\": 518934, \"hydrate\": \"stats(group=[fielding],type=[byDateRange],\\\n",
    "    startDate=2022-04-05,endDate=2022-08-12,season=2022)\"})['people'][0]['stats'][0]['splits'][0]['stat']\n",
    "\n",
    "d2 = statsapi.get(\"people\", {\"personIds\": 518934, \"hydrate\": \"stats(group=[fielding],type=[byDateRange],\\\n",
    "    startDate=2022-04-05,endDate=2022-08-12,season=2022)\"})['people'][0]['stats'][0]['splits'][1]['stat']\n",
    "\n",
    "d0 = statsapi.get(\"people\", {\"personIds\": 518934, \"hydrate\": \"stats(group=[fielding],type=[byDateRange],\\\n",
    "    startDate=2022-04-05,endDate=2022-08-12,season=2022)\"})['people'][0]['stats'][0]['splits'][2]['stat']\n",
    "\n",
    "d3 = dict(d1) # don't do `d3=d1`, you need to make a copy\n",
    "\n",
    "d3.update(d2) \n",
    "try:\n",
    "    for i, j in d1.items():\n",
    "\n",
    "        for x, y in d2.items():\n",
    "\n",
    "                if (i == x):\n",
    "\n",
    "                    d3[i]=(j+y)\n",
    "except: pass\n",
    "d4 = dict(d3)\n",
    "d4.update(d0)\n",
    "try:\n",
    "    for i, j in d3.items():\n",
    "\n",
    "        for x, y in d0.items():\n",
    "\n",
    "                if (i == x):\n",
    "\n",
    "                    d4[i]=(j+y)\n",
    "except: pass\n",
    "print(d4)"
   ]
  },
  {
   "cell_type": "code",
   "execution_count": null,
   "metadata": {},
   "outputs": [],
   "source": [
    "#Making a function to shorten the code - will use this in the stats function to get all the relevant fielding stats added together\n",
    "def add_dicts(d1, d2):\n",
    "    d3 = dict(d1)\n",
    "    d3.update(d2)\n",
    "    try:\n",
    "        for i, j in d1.items():\n",
    "\n",
    "            for x, y in d2.items():\n",
    "\n",
    "                if (i == x):\n",
    "\n",
    "                    d3[i]=(j+y)\n",
    "    except: pass\n",
    "    return d3"
   ]
  },
  {
   "cell_type": "code",
   "execution_count": null,
   "metadata": {},
   "outputs": [],
   "source": [
    "#Testing add_dicts starting with an empty dictionary\n",
    "empty_dict = {}\n",
    "dict_list = [d1,d0,d2]\n",
    "for i in range(len(dict_list)):\n",
    "    empty_dict = add_dicts(empty_dict,dict_list[i])\n",
    "empty_dict"
   ]
  },
  {
   "cell_type": "code",
   "execution_count": null,
   "metadata": {},
   "outputs": [],
   "source": [
    "#Getting the if statement to work inside the for loop of the player_stats function and \n",
    "#creating a list of unique fielding stats for a player (they duplicated for some reason)\n",
    "temp_list = []\n",
    "temp_list2 = []\n",
    "fielding_stats = statsapi.get(\"people\", {\"personIds\": 518934, \"hydrate\": \"stats(group=[fielding],type=[byDateRange],\\\n",
    "    startDate=2022-04-05,endDate=2022-08-12,season=2022)\"})\n",
    "for i in range(len(fielding_stats['people'][0]['stats'][0]['splits'])):\n",
    "    if fielding_stats['people'][0]['stats'][0]['splits'][i]['stat']['position']['code'] in temp_list:\n",
    "        pass\n",
    "    else:\n",
    "        temp_list.append(fielding_stats['people'][0]['stats'][0]['splits'][i]['stat']['position']['code'])\n",
    "        temp_list2.append(fielding_stats['people'][0]['stats'][0]['splits'][i]['stat']) \n",
    "temp_list2"
   ]
  },
  {
   "cell_type": "code",
   "execution_count": null,
   "metadata": {},
   "outputs": [],
   "source": [
    "#Getting add_dicts function to work to combine all fielding stats into one dictionary - strings will be messed up\n",
    "dict_A = {}\n",
    "for i in range(len(temp_list2)):\n",
    "    dict_A =  add_dicts(dict_A, temp_list2[i])\n",
    "dict_A"
   ]
  },
  {
   "cell_type": "markdown",
   "metadata": {},
   "source": [
    "## Pulling some stats for a team roster/matchup\n",
    "###### Need to get the date of the game for the player_stats function to work properly - this date will be the end date, with the start of season offset date as the start"
   ]
  },
  {
   "cell_type": "code",
   "execution_count": null,
   "metadata": {},
   "outputs": [],
   "source": [
    "#reading json\n",
    "f = open('roster_dict')\n",
    "data = json.load(f)"
   ]
  },
  {
   "cell_type": "code",
   "execution_count": null,
   "metadata": {},
   "outputs": [],
   "source": [
    "#Looking at the first matchup \n",
    "\n",
    "#Getting relevant data from dictionary\n",
    "matchup_one = data[0]\n",
    "game_id = matchup_one['game_id']\n",
    "home_roster = matchup_one['home_roster']\n",
    "away_roster = matchup_one['away_roster']\n",
    "date = statsapi.boxscore_data(game_id, timecode=None)['gameId'][0:10].replace('/', '-')\n",
    "\n",
    "#Pulling stats for each player - had to look up date manually for now\n",
    "\n",
    "for i in home_roster:\n",
    "    print(player_stats(i,'2021-04-01', date, 2021))"
   ]
  },
  {
   "cell_type": "markdown",
   "metadata": {},
   "source": [
    "### Troubleshooting again for player_stats, with pitching specifically\n",
    "###### Was running into issues with pitchers being on the roster but not pitching for the team yet in the season"
   ]
  },
  {
   "cell_type": "code",
   "execution_count": null,
   "metadata": {},
   "outputs": [],
   "source": [
    "#Looking at how to get the total stats for a pitcher in the season so far (As they are often traded and a separate entry is created for each team)\n",
    "pitching_stats = statsapi.get(\"people\", {\"personIds\": 593974, \"hydrate\": f\"stats(group=[pitching],type=[byDateRange],\\\n",
    "    startDate=2021-04-01,endDate=2021-05-06,season=2021)\"})\n",
    "pitching_stats['people'][0]['stats'][0]['splits'][-1]['stat']"
   ]
  },
  {
   "cell_type": "code",
   "execution_count": null,
   "metadata": {},
   "outputs": [],
   "source": [
    "#Looking for Gerrit Cole's stats with function - was returning {} before I fixed the function now\n",
    "player_stats(543037,'2021-04-01', '2021-05-06', 2021)"
   ]
  },
  {
   "cell_type": "code",
   "execution_count": null,
   "metadata": {},
   "outputs": [],
   "source": [
    "#Looking for Gerrit Cole's stats straight from the API - works fine\n",
    "statsapi.get(\"people\", {\"personIds\": 543037, \"hydrate\": f\"stats(group=[pitching],type=[byDateRange],\\\n",
    "    startDate=2021-04-01,endDate=2021-05-06,season=2021)\"})['people'][0]['stats'][0]['splits'][-1]['stat']"
   ]
  },
  {
   "cell_type": "code",
   "execution_count": null,
   "metadata": {},
   "outputs": [],
   "source": [
    "#Testing for pitcher who swapped teams mid season\n",
    "#Verifies that we only need the last entry for the cumulative pitching stats\n",
    "statsapi.get(\"people\", {\"personIds\": 458677, \"hydrate\": f\"stats(group=[pitching],type=[byDateRange],\\\n",
    "    startDate=2021-04-01,endDate=2021-10-01,season=2021)\"})"
   ]
  },
  {
   "cell_type": "markdown",
   "metadata": {},
   "source": [
    "## Player Stats Function Final Vers"
   ]
  },
  {
   "cell_type": "code",
   "execution_count": null,
   "metadata": {},
   "outputs": [],
   "source": [
    "#Fixing function to get player stats\n",
    "#Inputs are the id, start date and end date\n",
    "\n",
    "#Fix using abbreviation == All\n",
    "\n",
    "def player_stats(id,start_date, end_date, season):\n",
    "\n",
    "    #Getting player stats - separately because the API switches their order when fetched at the same time \n",
    "    hitting_stats = statsapi.get(\"people\", {\"personIds\": id, \"hydrate\": f\"stats(group=[hitting],type=[byDateRange],\\\n",
    "    startDate={start_date},endDate={end_date},season={season})\"})\n",
    "    pitching_stats = statsapi.get(\"people\", {\"personIds\": id, \"hydrate\": f\"stats(group=[pitching],type=[byDateRange],\\\n",
    "    startDate={start_date},endDate={end_date},season={season})\"})\n",
    "    fielding_stats = statsapi.get(\"people\", {\"personIds\": id, \"hydrate\": f\"stats(group=[fielding],type=[byDateRange],\\\n",
    "    startDate={start_date},endDate={end_date},season={season})\"})\n",
    "\n",
    "    #dict where I will add all the collected stats\n",
    "    stat_dict = {}\n",
    "\n",
    "    #Temporary storage for fielding dicts for all positions\n",
    "    fielding_list = []\n",
    "\n",
    "    #List to check if the stats for a fielding position have already been collected - as they are listed more than once\n",
    "    pos_codes = []\n",
    "\n",
    "    #Taking last entry of hitting stats, as that is the cumulative for the date range\n",
    "    try:\n",
    "        player_hitting_stats = hitting_stats['people'][0]['stats'][0]['splits'][-1]['stat']\n",
    "        stat_dict['hitting'] = player_hitting_stats\n",
    "    except: pass\n",
    "    \n",
    "    #Taking last entry of pitching stats, as that is the cumulative for the date range\n",
    "    try:\n",
    "        player_pitching_stats = pitching_stats['people'][0]['stats'][0]['splits'][-1]['stat']\n",
    "        stat_dict['pitching'] = player_pitching_stats\n",
    "    except: pass\n",
    "\n",
    "    #Summing cumulative fielding stats for each position played (Team changes now accounted for)\n",
    "    try:\n",
    "        for i in range(len(fielding_stats['people'][0]['stats'][0]['splits'])):\n",
    "            if fielding_stats['people'][0]['stats'][0]['splits'][i]['sport']['abbreviation'] == 'All':\n",
    "                fielding_list.append(fielding_stats['people'][0]['stats'][0]['splits'][i]['stat']) \n",
    "                \n",
    "        all_fielding = {}\n",
    "\n",
    "        for i in range(len(fielding_list)):\n",
    "            all_fielding = add_dicts(all_fielding, fielding_list[i])\n",
    "        stat_dict['fielding'] = all_fielding\n",
    "        \n",
    "        \n",
    "    except:pass\n",
    "    return stat_dict"
   ]
  },
  {
   "cell_type": "code",
   "execution_count": null,
   "metadata": {},
   "outputs": [],
   "source": [
    "#Testing for Javier Baez - Now works properly for hitting and fielding\n",
    "player_stats(595879, '2021-04-05', '2021-10-01', 2021)"
   ]
  },
  {
   "cell_type": "markdown",
   "metadata": {},
   "source": [
    "## Pulling Stats from roster_date_dict for a team matchup"
   ]
  },
  {
   "cell_type": "code",
   "execution_count": null,
   "metadata": {},
   "outputs": [],
   "source": [
    "#reading json\n",
    "f = open('roster_date_dict')\n",
    "roster_matchup = json.load(f)\n",
    "roster_matchup[0]"
   ]
  },
  {
   "cell_type": "code",
   "execution_count": null,
   "metadata": {},
   "outputs": [],
   "source": [
    "#Looking at the first matchup \n",
    "\n",
    "#Getting relevant data from dictionary\n",
    "first_game = roster_matchup[0]\n",
    "date = first_game['date']\n",
    "game_id = first_game['game_id']\n",
    "home_roster = matchup_one['home_roster']\n",
    "away_roster = matchup_one['away_roster']\n",
    "\n",
    "#Pulling stats for each player - using season_start_end function to fetch the season start date\n",
    "\n",
    "for i in home_roster:\n",
    "    print(player_stats(i,season_start_end(2021)[0], date, 2021))"
   ]
  },
  {
   "cell_type": "code",
   "execution_count": null,
   "metadata": {},
   "outputs": [],
   "source": [
    "#Comparing some results of the function to a proper get request from the API\n",
    "#Results match my function\n",
    "roster_list = [518934,\n",
    "   519317,\n",
    "   592450,\n",
    "   642180,\n",
    "   650402,\n",
    "   645801,\n",
    "   543305,\n",
    "   543309,\n",
    "   458731,\n",
    "   656061,\n",
    "   570666,\n",
    "   547973,\n",
    "   593334,\n",
    "   650633,\n",
    "   446372,\n",
    "   642528,\n",
    "   656756,\n",
    "   593974,\n",
    "   592791]\n",
    "for i in roster_list:\n",
    "    print(statsapi.get(\"people\", {\"personIds\": i, \"hydrate\": f\"stats(group=[pitching,fielding,hitting],type=[byDateRange],\\\n",
    "    startDate=2021-04-01,endDate=2021-05-06,season=2021)\"})['people'][0]['stats'])"
   ]
  },
  {
   "cell_type": "markdown",
   "metadata": {},
   "source": [
    "## Pulling more specific stats from roster_date_dict for a player\n",
    "###### Starting with only a few stats"
   ]
  },
  {
   "cell_type": "code",
   "execution_count": null,
   "metadata": {},
   "outputs": [],
   "source": [
    "#Pulling stats for one player and adding to a df for future use\n",
    "\n",
    "#Stats we will be using for now\n",
    "hitting_stats = ['runs', 'rbi', 'homeRuns', 'hits', 'avg', 'ops', 'groundIntoDoublePlay']\n",
    "\n",
    "#Initializing empty df with specified column names\n",
    "df = pd.DataFrame(columns = hitting_stats)\n",
    "\n",
    "#Storing all stats as a list\n",
    "stat_list = [player_stats(595879, '2021-04-05', '2021-10-01', 2021)['hitting'][i] for i in hitting_stats]\n",
    "\n",
    "#appending stats to the df\n",
    "df.loc[len(df)] = stat_list\n"
   ]
  },
  {
   "cell_type": "code",
   "execution_count": null,
   "metadata": {},
   "outputs": [],
   "source": [
    "#Testing looping through one roster - Need to be more efficient here, takes 20 seconds to execute\n",
    "\n",
    "#Stats we will be using for now\n",
    "hitting_stats = ['runs', 'rbi', 'homeRuns', 'hits', 'avg', 'ops', 'groundIntoDoublePlay']\n",
    "\n",
    "#Initializing empty df with specified column names\n",
    "df = pd.DataFrame(columns = hitting_stats)\n",
    "\n",
    "player_list = [595879,518934]\n",
    "\n",
    "for j in roster_list:\n",
    "\n",
    "    #Storing all stats as a list - using roster_list from above\n",
    "    stat_list = [player_stats(j, '2021-04-05', '2021-10-01', 2021)['hitting'][i] for i in hitting_stats]\n",
    "\n",
    "    #appending stats to the df\n",
    "    df.loc[len(df)] = stat_list"
   ]
  },
  {
   "cell_type": "code",
   "execution_count": null,
   "metadata": {},
   "outputs": [],
   "source": [
    "#Testing looping through a few players - Need to be more efficient here, takes about the same time as above to execute\n",
    "\n",
    "#Stats we will be using for now\n",
    "hitting_stats = ['runs', 'rbi', 'homeRuns', 'hits', 'avg', 'ops', 'groundIntoDoublePlay']\n",
    "\n",
    "#Initializing empty df with specified column names\n",
    "df = pd.DataFrame(columns = hitting_stats)\n",
    "\n",
    "\n",
    "#Storing all stats as a list - using roster_list from above\n",
    "stat_list = [[player_stats(j, '2021-04-05', '2021-10-01', 2021)['hitting'][i] for i in hitting_stats] for j in roster_list]\n",
    "\n",
    "#appending stats to the df\n",
    "for i in range(len(stat_list)):\n",
    "    df.loc[len(df)] = stat_list[i]"
   ]
  },
  {
   "cell_type": "markdown",
   "metadata": {},
   "source": [
    "## Testing putting data directly into a df - Test this for a team roster later"
   ]
  },
  {
   "cell_type": "code",
   "execution_count": 59,
   "metadata": {},
   "outputs": [],
   "source": [
    "#Creating empty df from keys in the dicts of each data group - using players to fill\n",
    "\n",
    "df = pd.DataFrame(columns = player_stats(518934, '2021-04-05', '2021-10-01', 2021)['hitting'].keys())\n",
    "df2 = pd.DataFrame(columns = player_stats(518934, '2021-04-05', '2021-10-01', 2021)['fielding'].keys())\n",
    "df3 = pd.DataFrame(columns = player_stats(656061, '2021-04-05', '2021-10-01', 2021)['pitching'].keys())"
   ]
  },
  {
   "cell_type": "code",
   "execution_count": 60,
   "metadata": {},
   "outputs": [],
   "source": [
    "df.loc[len(df)] = player_stats(518934, '2021-04-05', '2021-10-01', 2021)['hitting']"
   ]
  },
  {
   "cell_type": "code",
   "execution_count": 61,
   "metadata": {},
   "outputs": [],
   "source": [
    "df2.loc[len(df2)] = player_stats(518934, '2021-04-05', '2021-10-01', 2021)['fielding']"
   ]
  },
  {
   "cell_type": "code",
   "execution_count": 65,
   "metadata": {},
   "outputs": [],
   "source": [
    "#Combining all the dfs\n",
    "df = pd.concat([df,df2,df3],axis=1)"
   ]
  },
  {
   "cell_type": "code",
   "execution_count": 66,
   "metadata": {},
   "outputs": [],
   "source": [
    "#Adding game_id to df\n",
    "df['game_id'] = first_game['game_id']"
   ]
  },
  {
   "cell_type": "code",
   "execution_count": 70,
   "metadata": {},
   "outputs": [
    {
     "data": {
      "text/plain": [
       "0    634224\n",
       "Name: game_id, dtype: int64"
      ]
     },
     "execution_count": 70,
     "metadata": {},
     "output_type": "execute_result"
    }
   ],
   "source": [
    "df['game_id']"
   ]
  },
  {
   "cell_type": "markdown",
   "metadata": {},
   "source": [
    "## Creating new json for use in creating organized team data"
   ]
  },
  {
   "cell_type": "code",
   "execution_count": null,
   "metadata": {},
   "outputs": [],
   "source": [
    "#Takes a long time to run (9min) - There was a better way I am sure, a df would have been better, but using this for now\n",
    "#Commenting out to not run again\n",
    "dict_list = []\n",
    "for i in game_ids:\n",
    "    game_info = statsapi.boxscore_data(i, timecode=None)\n",
    "    roster_dict = {}\n",
    "    #General game info\n",
    "    roster_dict['game_id'] = int(i)\n",
    "    roster_dict['date'] = game_info['gameId'][0:10].replace('/', '-')\n",
    "    #Home team stats - hitting, starting pitcher, bullpen\n",
    "    roster_dict['home_id'] = game_info['teamInfo']['home']['id']\n",
    "    roster_dict['home_hitting'] = game_info['home']['batters'] + game_info['home']['bench']\n",
    "    roster_dict['home_sp'] = game_info['homePitchers'][1]['personId']\n",
    "    roster_dict['home_bullpen'] = game_info['home']['batters']\n",
    "    #Away team stats - hitting, starting pitcher, bullpen\n",
    "    roster_dict['away_id'] = game_info['teamInfo']['away']['id']\n",
    "    roster_dict['away_hitting'] = game_info['away']['batters'] + game_info['away']['bench']\n",
    "    roster_dict['away_sp'] = game_info['awayPitchers'][1]['personId']\n",
    "    roster_dict['away_bullpen'] = game_info['away']['bullpen']\n",
    "    dict_list.append(roster_dict)\n",
    "dict_list"
   ]
  },
  {
   "cell_type": "code",
   "execution_count": 230,
   "metadata": {},
   "outputs": [],
   "source": [
    "#Creating json from above dict_list\n",
    "#Commenting out to not run again\n",
    "with open('roster_by_group', 'w') as fout:\n",
    "    json.dump(dict_list, fout)"
   ]
  },
  {
   "cell_type": "code",
   "execution_count": 228,
   "metadata": {},
   "outputs": [
    {
     "data": {
      "text/plain": [
       "144"
      ]
     },
     "execution_count": 228,
     "metadata": {},
     "output_type": "execute_result"
    }
   ],
   "source": [
    "statsapi.boxscore_data(633899, timecode=None)['teamInfo']['away']['id']"
   ]
  },
  {
   "cell_type": "markdown",
   "metadata": {},
   "source": [
    "## Testing creation of team stats for one team"
   ]
  },
  {
   "cell_type": "code",
   "execution_count": 231,
   "metadata": {},
   "outputs": [],
   "source": [
    "#reading json\n",
    "f = open('roster_by_group')\n",
    "roster_groups = json.load(f)"
   ]
  },
  {
   "cell_type": "code",
   "execution_count": null,
   "metadata": {},
   "outputs": [],
   "source": [
    "roster_groups"
   ]
  },
  {
   "cell_type": "code",
   "execution_count": 156,
   "metadata": {},
   "outputs": [],
   "source": [
    "#Testing looping through one roster - Need to be more efficient here, takes 20 seconds to execute\n",
    "\n",
    "#Stats we will be using for now\n",
    "hitting_stats = ['hits', 'baseOnBalls', 'atBats', 'hitByPitch', 'sacFlies', 'doubles', 'triples', 'homeRuns', 'plateAppearances']\n",
    "\n",
    "#Initializing empty df with specified column names\n",
    "df = pd.DataFrame(columns = hitting_stats)\n",
    "\n",
    "\n",
    "for j in roster_groups[0]['home_hitting']:\n",
    "    try:\n",
    "        #Storing all stats as a list - using roster_groups[0]['home_hitting']\n",
    "        stat_list = [player_stats(j, '2021-04-05', '2021-10-01', 2021)['hitting'][i] for i in hitting_stats]\n",
    "\n",
    "        #appending stats to the df\n",
    "        df.loc[len(df)] = stat_list\n",
    "    except: pass"
   ]
  },
  {
   "cell_type": "markdown",
   "metadata": {},
   "source": [
    "#### Creating relevant stats from the data"
   ]
  },
  {
   "cell_type": "code",
   "execution_count": 153,
   "metadata": {},
   "outputs": [
    {
     "data": {
      "text/plain": [
       "0.249"
      ]
     },
     "execution_count": 153,
     "metadata": {},
     "output_type": "execute_result"
    }
   ],
   "source": [
    "#team batting avg\n",
    "team_avg = round(df['hits'].sum()/df['atBats'].sum(),3)\n",
    "team_avg"
   ]
  },
  {
   "cell_type": "code",
   "execution_count": 163,
   "metadata": {},
   "outputs": [
    {
     "data": {
      "text/plain": [
       "0.332"
      ]
     },
     "execution_count": 163,
     "metadata": {},
     "output_type": "execute_result"
    }
   ],
   "source": [
    "#Team on base percentage (ops)\n",
    "team_obp = round((df['hits'].sum()+df['baseOnBalls'].sum()+df['hitByPitch'].sum())/df['plateAppearances'].sum(),3)\n",
    "team_obp"
   ]
  },
  {
   "cell_type": "code",
   "execution_count": 165,
   "metadata": {},
   "outputs": [
    {
     "data": {
      "text/plain": [
       "0.418"
      ]
     },
     "execution_count": 165,
     "metadata": {},
     "output_type": "execute_result"
    }
   ],
   "source": [
    "#Team slugging percentage\n",
    "team_slug = round((df['hits'].sum() + df['doubles'].sum() + df['triples'].sum()*2 + df['homeRuns'].sum()*3)/df['atBats'].sum(),3)\n",
    "team_slug"
   ]
  },
  {
   "cell_type": "markdown",
   "metadata": {},
   "source": [
    "##  Calculating difference in hitting stats for a team matchup"
   ]
  },
  {
   "cell_type": "code",
   "execution_count": 177,
   "metadata": {},
   "outputs": [],
   "source": [
    "#Creating df of relevant home team hitting stats\n",
    "\n",
    "#Stats we will be using for now\n",
    "hitting_stats = ['hits', 'baseOnBalls', 'atBats', 'hitByPitch','doubles', 'triples', 'homeRuns', 'plateAppearances']\n",
    "team_hit_stats = ['game_id','avg', 'obp', 'slug']\n",
    "\n",
    "#Initializing empty df with specified column names\n",
    "df = pd.DataFrame(columns = team_hit_stats)\n",
    "hits = 0\n",
    "baseOnBalls = 0\n",
    "atBats = 0\n",
    "hitByPitch = 0\n",
    "doubles = 0\n",
    "triples = 0\n",
    "homeRuns= 0\n",
    "plateAppearances = 0\n",
    "\n",
    "for j in roster_groups[0]['home_hitting']:\n",
    "    try:\n",
    "        #Storing all stats as a list - using roster_groups[0]['home_hitting']\n",
    "        stat_list = [player_stats(j, '2021-04-05', '2021-10-01', 2021)['hitting'][i] for i in hitting_stats]\n",
    "        hits+= stat_list[0]\n",
    "        baseOnBalls+= stat_list[1]\n",
    "        atBats+= stat_list[2]\n",
    "        hitByPitch+= stat_list[3]\n",
    "        doubles+= stat_list[4]\n",
    "        triples+= stat_list[5]\n",
    "        homeRuns+= stat_list[6]\n",
    "        plateAppearances+= stat_list[7]\n",
    "    except: pass\n",
    "        #appending stats to the df\n",
    "df.loc[len(df)] = [int(roster_groups[0]['game_id']),round(hits/atBats,3),round((hits+baseOnBalls+hitByPitch)/plateAppearances,3),round((hits+doubles+triples*2+homeRuns*3)/atBats,3)]"
   ]
  },
  {
   "cell_type": "code",
   "execution_count": 183,
   "metadata": {},
   "outputs": [],
   "source": [
    "#Creating a df of relevant away team hitting stats\n",
    "\n",
    "#Stats we will be using for now\n",
    "hitting_stats = ['hits', 'baseOnBalls', 'atBats', 'hitByPitch','doubles', 'triples', 'homeRuns', 'plateAppearances']\n",
    "team_hit_stats = ['game_id','avg', 'obp', 'slug']\n",
    "\n",
    "#Initializing empty df with specified column names\n",
    "df_away = pd.DataFrame(columns = team_hit_stats)\n",
    "hits = 0\n",
    "baseOnBalls = 0\n",
    "atBats = 0\n",
    "hitByPitch = 0\n",
    "doubles = 0\n",
    "triples = 0\n",
    "homeRuns= 0\n",
    "plateAppearances = 0\n",
    "\n",
    "for j in roster_groups[0]['away_hitting']:\n",
    "    try:\n",
    "        #Storing all stats as a list - using roster_groups[0]['home_hitting']\n",
    "        stat_list = [player_stats(j, '2021-04-05', '2021-10-01', 2021)['hitting'][i] for i in hitting_stats]\n",
    "        hits+= stat_list[0]\n",
    "        baseOnBalls+= stat_list[1]\n",
    "        atBats+= stat_list[2]\n",
    "        hitByPitch+= stat_list[3]\n",
    "        doubles+= stat_list[4]\n",
    "        triples+= stat_list[5]\n",
    "        homeRuns+= stat_list[6]\n",
    "        plateAppearances+= stat_list[7]\n",
    "    except: pass\n",
    "        #appending stats to the df\n",
    "df_away.loc[len(df)] = [int(roster_groups[0]['game_id']),round(hits/atBats,3),round((hits+baseOnBalls+hitByPitch)/plateAppearances,3),round((hits+doubles+triples*2+homeRuns*3)/atBats,3)]"
   ]
  },
  {
   "cell_type": "code",
   "execution_count": 189,
   "metadata": {},
   "outputs": [
    {
     "data": {
      "text/html": [
       "<div>\n",
       "<style scoped>\n",
       "    .dataframe tbody tr th:only-of-type {\n",
       "        vertical-align: middle;\n",
       "    }\n",
       "\n",
       "    .dataframe tbody tr th {\n",
       "        vertical-align: top;\n",
       "    }\n",
       "\n",
       "    .dataframe thead th {\n",
       "        text-align: right;\n",
       "    }\n",
       "</style>\n",
       "<table border=\"1\" class=\"dataframe\">\n",
       "  <thead>\n",
       "    <tr style=\"text-align: right;\">\n",
       "      <th></th>\n",
       "      <th>game_id</th>\n",
       "      <th>avg</th>\n",
       "      <th>obp</th>\n",
       "      <th>slug</th>\n",
       "    </tr>\n",
       "  </thead>\n",
       "  <tbody>\n",
       "    <tr>\n",
       "      <th>0</th>\n",
       "      <td>634224.0</td>\n",
       "      <td>-0.022</td>\n",
       "      <td>-0.012</td>\n",
       "      <td>-0.024</td>\n",
       "    </tr>\n",
       "  </tbody>\n",
       "</table>\n",
       "</div>"
      ],
      "text/plain": [
       "    game_id    avg    obp   slug\n",
       "0  634224.0 -0.022 -0.012 -0.024"
      ]
     },
     "execution_count": 189,
     "metadata": {},
     "output_type": "execute_result"
    }
   ],
   "source": [
    "#Finding difference of home and away team stats\n",
    "df.set_index('game_id').subtract(df_away.set_index('game_id'), fill_value =0).reset_index()"
   ]
  },
  {
   "cell_type": "markdown",
   "metadata": {},
   "source": [
    "## Creating a function to calculate the difference in hitting stats for a team matchup"
   ]
  },
  {
   "cell_type": "code",
   "execution_count": 274,
   "metadata": {},
   "outputs": [],
   "source": [
    "#Creating team hitting stats function\n",
    "\n",
    "#Function takes the game_id and whether you want home or away hitting stats as inputs\n",
    "#returns a df with three columns of the calculated stats\n",
    "\n",
    "def team_hitting_stats(game_id, start_date, end_date, year, type='home_hitting'):\n",
    "    hitting_stats = ['hits', 'baseOnBalls', 'atBats', 'hitByPitch','doubles', 'triples', 'homeRuns', 'plateAppearances']\n",
    "    team_hit_stats = ['game_id','avg', 'obp', 'slug']\n",
    "\n",
    "    #Initializing empty df with specified column names\n",
    "    df = pd.DataFrame(columns = team_hit_stats)\n",
    "    hits = 0\n",
    "    baseOnBalls = 0\n",
    "    atBats = 0\n",
    "    hitByPitch = 0\n",
    "    doubles = 0\n",
    "    triples = 0\n",
    "    homeRuns= 0\n",
    "    plateAppearances = 0\n",
    "    for i in range(len(roster_groups)):\n",
    "        if roster_groups[i]['game_id'] == game_id:\n",
    "            for j in roster_groups[i][type]:\n",
    "                try:\n",
    "                    #Storing all stats as a list - using roster_groups[0]['home_hitting']\n",
    "                    stat_list = [player_stats(j, start_date, end_date, year)['hitting'][i] for i in hitting_stats]\n",
    "                    hits+= stat_list[0]\n",
    "                    baseOnBalls+= stat_list[1]\n",
    "                    atBats+= stat_list[2]\n",
    "                    hitByPitch+= stat_list[3]\n",
    "                    doubles+= stat_list[4]\n",
    "                    triples+= stat_list[5]\n",
    "                    homeRuns+= stat_list[6]\n",
    "                    plateAppearances+= stat_list[7]\n",
    "                except: pass\n",
    "                    #appending stats to the df\n",
    "            df.loc[len(df)] = [int(roster_groups[i]['game_id']),round(hits/atBats,3),round((hits+baseOnBalls+hitByPitch)/plateAppearances,3),round((hits+doubles+triples*2+homeRuns*3)/atBats,3)]\n",
    "    return df"
   ]
  },
  {
   "cell_type": "code",
   "execution_count": 276,
   "metadata": {},
   "outputs": [],
   "source": [
    "#Function that implements the team_hitting_stats function for both teams\n",
    "\n",
    "#Takes the game_id as input\n",
    "#Returns a df that is the results of home - away team stats.\n",
    "\n",
    "def hitting_stats_diff(game_id, start_date, end_date, year):\n",
    "    home_df = team_hitting_stats(game_id, start_date, end_date, year, type = 'home_hitting',)\n",
    "    away_df = team_hitting_stats(game_id, start_date, end_date, year,type = 'away_hitting')\n",
    "    return home_df.set_index('game_id').subtract(df_away.set_index('game_id'), fill_value =0).reset_index()\n",
    "#Input is the game_id to look at\n",
    "#returns a list of values for entry to a df\n",
    "#Commented out for now as I build it"
   ]
  },
  {
   "cell_type": "code",
   "execution_count": null,
   "metadata": {},
   "outputs": [],
   "source": [
    "#Testing function (takes 50s)\n",
    "hitting_stats_diff(634224,'2021-04-05', '2021-10-01', 2021)"
   ]
  },
  {
   "cell_type": "markdown",
   "metadata": {},
   "source": [
    "## Looking into calculating a rolling 10 day average\n",
    "\n",
    "##### Currently prints the last 10 games before the current game"
   ]
  },
  {
   "cell_type": "code",
   "execution_count": null,
   "metadata": {},
   "outputs": [],
   "source": [
    "#10 day obp for one team\n",
    "#counter to only sum 10 games\n",
    "count = 0\n",
    "for i in range(len(roster_groups)):\n",
    "    if roster_groups[i]['game_id'] == 633899:\n",
    "        date = roster_groups[i]['date']\n",
    "        team_id = roster_groups[i]['home_id']\n",
    "        starting_pos = i\n",
    "for i in range(len(roster_groups)):\n",
    "    if count < 9 and roster_groups[starting_pos]['date']<=date and (roster_groups[starting_pos]['home_id']==team_id or roster_groups[starting_pos]['away_id']==team_id):\n",
    "        print(roster_groups[starting_pos]['game_id'])\n",
    "        print(roster_groups[starting_pos]['date'])\n",
    "        print(roster_groups[starting_pos]['home_id'])\n",
    "        count+=1\n",
    "        starting_pos-=1\n",
    "    else: \n",
    "        starting_pos-=1"
   ]
  },
  {
   "cell_type": "code",
   "execution_count": null,
   "metadata": {},
   "outputs": [],
   "source": [
    "#hits, baseOnBalls, hitByPitch, plateAppearances"
   ]
  }
 ],
 "metadata": {
  "kernelspec": {
   "display_name": "Python 3.9.8 64-bit",
   "language": "python",
   "name": "python3"
  },
  "language_info": {
   "codemirror_mode": {
    "name": "ipython",
    "version": 3
   },
   "file_extension": ".py",
   "mimetype": "text/x-python",
   "name": "python",
   "nbconvert_exporter": "python",
   "pygments_lexer": "ipython3",
   "version": "3.9.8"
  },
  "orig_nbformat": 4,
  "vscode": {
   "interpreter": {
    "hash": "f450c7eb4f838dc2b8e8e4724af9f52f1f78adb4aba90f54ac373406a2721386"
   }
  }
 },
 "nbformat": 4,
 "nbformat_minor": 2
}
